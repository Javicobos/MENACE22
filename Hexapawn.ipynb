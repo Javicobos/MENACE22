{
  "nbformat": 4,
  "nbformat_minor": 0,
  "metadata": {
    "colab": {
      "name": "Hexapawn.ipynb",
      "provenance": [],
      "collapsed_sections": [],
      "authorship_tag": "ABX9TyPBZCWesnfl4uLUZfOvA4V/",
      "include_colab_link": true
    },
    "kernelspec": {
      "name": "python3",
      "display_name": "Python 3"
    },
    "language_info": {
      "name": "python"
    }
  },
  "cells": [
    {
      "cell_type": "markdown",
      "metadata": {
        "id": "view-in-github",
        "colab_type": "text"
      },
      "source": [
        "<a href=\"https://colab.research.google.com/github/Javicobos/MENACE22/blob/main/Hexapawn.ipynb\" target=\"_parent\"><img src=\"https://colab.research.google.com/assets/colab-badge.svg\" alt=\"Open In Colab\"/></a>"
      ]
    },
    {
      "cell_type": "markdown",
      "source": [
        "Based on [this](http://cs.williams.edu/~freund/cs136-073/GardnerHexapawn.pdf)."
      ],
      "metadata": {
        "id": "QIC5V-dm0RI6"
      }
    },
    {
      "cell_type": "code",
      "execution_count": 56,
      "metadata": {
        "id": "wbB6rX7U0HGV"
      },
      "outputs": [],
      "source": [
        "# Let's start with a basic matrix (that will actually be a list)\n",
        "gameBoard = [1,1,1,\n",
        "             0,0,0,\n",
        "             2,2,2]\n",
        "# Positions are numbered like this:\n",
        "#           [0,1,2,\n",
        "#            3,4,5,\n",
        "#            6,7,8]"
      ]
    },
    {
      "cell_type": "code",
      "source": [
        "def can_move(piece):\n",
        "    if piece == 1:\n",
        "        for i, ele in enumerate(gameBoard[:6]):\n",
        "            if ele == 1:\n",
        "                if gameBoard[i + 3] == 0:\n",
        "                    return 1\n",
        "                if (i%3)%2 == 0:                    # side piece\n",
        "                    if (i%3) == 0:                  # left edge \n",
        "                        if gameBoard[i + 4] == 2:\n",
        "                            return 1\n",
        "                    else:\n",
        "                        if gameBoard[i + 2] == 2:\n",
        "                            return 1\n",
        "                else:                               # middle piece\n",
        "                    if gameBoard[i + 2] == 2:       # eat left\n",
        "                        return 1\n",
        "                    if gameBoard[i + 4] == 2:       # eat right\n",
        "                        return 1\n",
        "    else:\n",
        "        for i, ele in enumerate(gameBoard[3:]):\n",
        "            if ele == 2:\n",
        "                if gameBoard[i+3 - 3]  == 0:          # forward\n",
        "                    return 2\n",
        "                if ((i+3)%3)%2 == 0:                    # side piece\n",
        "                    if ((i+3)%3) == 0:                  # left edge\n",
        "                        if gameBoard[i+3 - 2] == 1:   # 3 to 1, 6 to 4\n",
        "                            return 2\n",
        "                    else:                           # right edge\n",
        "                        if gameBoard[i+3 - 4] == 1:\n",
        "                            return 2\n",
        "                else:                               # middle piece\n",
        "                    if gameBoard[i+3 - 2] == 1:       # eat left\n",
        "                        return 2\n",
        "                    if gameBoard[i+3 - 4] == 1:       # eat right\n",
        "                        return 2\n",
        "    return 0\n",
        "\n",
        "def game_over():\n",
        "    if 1 in gameBoard[6:]:\n",
        "        return 1                        # 1 reached the end of the board\n",
        "    if 2 in gameBoard[:3]:\n",
        "        return 2                        # 2 reached the end of the board\n",
        "    return 0                            # game is not over"
      ],
      "metadata": {
        "id": "qjjEGm4i0gxS"
      },
      "execution_count": 57,
      "outputs": []
    },
    {
      "cell_type": "code",
      "source": [
        "# Let's make a file with the \"boxes\"\n",
        "# Copying the boxes would take a tenth of the time\n",
        "# But I wanted to practice so let's program making them\n",
        "outputFile = open('Hexapawn_Boxes.txt', 'w')\n",
        "allBoards = []\n",
        "def after_move(piece):\n",
        "    #if gameBoard == [0,0,1,2,2,2,0,0,0]:\n",
        "    #    print (\"it is here\")\n",
        "    if gameBoard == [1,0,0,2,2,2,0,0,0]:\n",
        "        print (\"it is here sym after\")\n",
        "    if gameBoard not in allBoards:\n",
        "        for k, ele in enumerate(gameBoard): #super inefficient idc\n",
        "            symmetricBoard[k - 2*(k%3) + 2] = ele\n",
        "            #if k%3 == 0:\n",
        "            #    symmetricBoard[k + 2] = ele\n",
        "            #elif k%3 == 1:\n",
        "            #    symmetricBoard[k] = ele\n",
        "            #elif k%3 == 2:\n",
        "            #    symmetricBoard[k-2] = ele\n",
        "        if symmetricBoard not in allBoards:\n",
        "            # if symmetric is not here\n",
        "            #print (\"we append a new board\")\n",
        "            #print (gameBoard)\n",
        "            #print (allBoards)\n",
        "            if piece == 1:\n",
        "                two_moves()\n",
        "            else:\n",
        "                allBoards.append(gameBoard[:])\n",
        "                one_moves()\n",
        "    #else:\n",
        "        #print (game_over_result)\n",
        "        #print (\"Game Over\")\n",
        "        #print (gameBoard)\n",
        "def move_piece(piece, start, end):  # underPiece is to undo eating\n",
        "    underPiece = gameBoard[end]\n",
        "    gameBoard[start] = 0\n",
        "    gameBoard[end] = piece\n",
        "    if gameBoard == [0,0,1,2,2,2,0,0,0]:\n",
        "        print (\"it is here\")\n",
        "    if gameBoard == [1,0,0,2,2,2,0,0,0]:\n",
        "        print (\"it is here sym\")\n",
        "        \n",
        "    if game_over() == 0 and can_move(piece) != 0:\n",
        "        after_move(piece)\n",
        "\n",
        "    gameBoard[end] = underPiece\n",
        "    gameBoard[start] = piece\n",
        "\n",
        "def two_moves():\n",
        "    for i, ele in enumerate(gameBoard[3:]):\n",
        "        if ele == 2:\n",
        "            if gameBoard[i+3 - 3]  == 0:          # forward\n",
        "                move_piece(2, i+3 , i+3 -3)\n",
        "                #return ??\n",
        "            if ((i+3)%3)%2 == 0:                    # side piece\n",
        "                if ((i+3)%3) == 0:                  # left edge\n",
        "                    if gameBoard[i+3 - 2] == 1:   # 3 to 1, 6 to 4\n",
        "                        move_piece(2, i+3, i+3-2)\n",
        "                else:                           # right edge\n",
        "                    if gameBoard[i+3 - 4] == 1:\n",
        "                        move_piece(2, i+3, i+3-4)\n",
        "            else:                               # middle piece\n",
        "                if gameBoard[i+3 - 2] == 1:       # eat left\n",
        "                    move_piece(2, i+3, i+3-2)\n",
        "                if gameBoard[i+3 - 4] == 1:       # eat right\n",
        "                    move_piece(2, i+3, i+3-4)\n",
        "    else: \n",
        "        return 0 #all moves are done\n",
        "def one_moves():\n",
        "    for i, ele in enumerate(gameBoard[:6]):\n",
        "        if ele == 1:\n",
        "            if gameBoard[i + 3] == 0:\n",
        "                move_piece(1, i, i+3)\n",
        "            if (i%3)%2 == 0:                    # side piece\n",
        "                if (i%3) == 0:                  # left edge \n",
        "                    if gameBoard[i + 4] == 2:\n",
        "                        move_piece(1, i, i + 4)\n",
        "                else:\n",
        "                    if gameBoard[i + 2] == 2:\n",
        "                        move_piece(1, i, i + 2)\n",
        "            else:                               # middle piece\n",
        "                if gameBoard[i + 2] == 2:       # eat left\n",
        "                    move_piece(1, i, i+2)\n",
        "                if gameBoard[i + 4] == 2:       # eat right\n",
        "                    move_piece(1, i, i+4)\n",
        "    else:\n",
        "        return 0 #all moves done\n",
        "\n",
        "#           [0,1,2,\n",
        "#            3,4,5,\n",
        "#            6,7,8]\n",
        "# from 3, top diagonal is 1\n",
        "# from 4, top diagonals are 0 and 2\n",
        "# from 5, top diagonal is 1\n",
        "# from 6, top diagonal is 4\n",
        "# from 7, top diagonals are 3 and 5\n",
        "# from 8, top diagonal is 4\n",
        "\n",
        "    \n"
      ],
      "metadata": {
        "id": "MvklfF-A2_Av"
      },
      "execution_count": 58,
      "outputs": []
    },
    {
      "cell_type": "code",
      "source": [
        "allBoards = []\n",
        "gameBoard = [1,1,1,\n",
        "             0,0,0,\n",
        "             2,2,2]\n",
        "symmetricBoard =    [1,1,1,\n",
        "                    0,0,0,\n",
        "                    2,2,2]\n",
        "two_moves()\n",
        "#print (allBoards)\n",
        "\n",
        "outputFile = open('Hexapawn_Boxes.txt', 'w')\n",
        "for num, i in enumerate(allBoards):\n",
        "    outputFile.write(str(i[:3]) + '\\n')\n",
        "    outputFile.write(str(i[3:6]) + '\\n')\n",
        "    outputFile.write(str(i[6:]) + '\\n')\n",
        "    outputFile.write(\"that was the \" + str(num) + \" board\" + '\\n')"
      ],
      "metadata": {
        "colab": {
          "base_uri": "https://localhost:8080/"
        },
        "id": "jHiw4-TOF2eK",
        "outputId": "b50207db-d0c8-4f5f-b0de-5b35fe3555b6"
      },
      "execution_count": 60,
      "outputs": [
        {
          "output_type": "stream",
          "name": "stdout",
          "text": [
            "it is here sym\n",
            "it is here sym after\n",
            "it is here sym\n",
            "it is here sym after\n"
          ]
        }
      ]
    },
    {
      "cell_type": "code",
      "source": [
        "gameBoard = [1,1,1,\n",
        "             0,0,0,\n",
        "             2,2,2]\n",
        "\n",
        "print (gameBoard[:3])"
      ],
      "metadata": {
        "colab": {
          "base_uri": "https://localhost:8080/"
        },
        "id": "GOf6kkHtH3yP",
        "outputId": "bc3b83d2-632e-4f07-ef4a-f929a3214da6"
      },
      "execution_count": null,
      "outputs": [
        {
          "output_type": "stream",
          "name": "stdout",
          "text": [
            "[1, 1, 1]\n"
          ]
        }
      ]
    },
    {
      "cell_type": "code",
      "source": [
        "print (str([0,0,1, 2,2,2, 0,0,0] in allBoards))\n",
        "gameBoard = [1,0,0,2,2,2,0,0,0]\n",
        "\n",
        "print (game_over()) #the problem is that 1 is vertically locked, it can capture but the gameover thinks it's done\n",
        "# check game over, check if it can be done with the move func?"
      ],
      "metadata": {
        "colab": {
          "base_uri": "https://localhost:8080/"
        },
        "id": "kfhdR9FJfARa",
        "outputId": "6dd9ac2c-c67c-4c63-f9a2-1f7d4ef81a91"
      },
      "execution_count": null,
      "outputs": [
        {
          "output_type": "stream",
          "name": "stdout",
          "text": [
            "False\n",
            "2\n"
          ]
        }
      ]
    }
  ]
}