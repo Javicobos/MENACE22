{
  "nbformat": 4,
  "nbformat_minor": 0,
  "metadata": {
    "colab": {
      "name": "Hexapawn.ipynb",
      "provenance": [],
      "collapsed_sections": [
        "7fimT_Ttv92g",
        "AHSYm0i_oezg"
      ],
      "toc_visible": true,
      "authorship_tag": "ABX9TyOAw0+XJtZdOziGx71AK3E8",
      "include_colab_link": true
    },
    "kernelspec": {
      "name": "python3",
      "display_name": "Python 3"
    },
    "language_info": {
      "name": "python"
    },
    "widgets": {
      "application/vnd.jupyter.widget-state+json": {
        "fd1f069ea5e44955909dafd8e33cbd5d": {
          "model_module": "@jupyter-widgets/controls",
          "model_name": "ButtonModel",
          "model_module_version": "1.5.0",
          "state": {
            "_view_name": "ButtonView",
            "style": "IPY_MODEL_c5ff95bda8ab47fd88e45b3361b6ecbe",
            "_dom_classes": [],
            "description": "Start the game",
            "_model_name": "ButtonModel",
            "button_style": "",
            "_view_module": "@jupyter-widgets/controls",
            "_model_module_version": "1.5.0",
            "tooltip": "",
            "_view_count": null,
            "disabled": false,
            "_view_module_version": "1.5.0",
            "layout": "IPY_MODEL_dbdb6680110f4aa09189cc6a08578964",
            "_model_module": "@jupyter-widgets/controls",
            "icon": ""
          }
        },
        "c5ff95bda8ab47fd88e45b3361b6ecbe": {
          "model_module": "@jupyter-widgets/controls",
          "model_name": "ButtonStyleModel",
          "model_module_version": "1.5.0",
          "state": {
            "_view_name": "StyleView",
            "_model_name": "ButtonStyleModel",
            "_view_module": "@jupyter-widgets/base",
            "_model_module_version": "1.5.0",
            "_view_count": null,
            "button_color": null,
            "font_weight": "",
            "_view_module_version": "1.2.0",
            "_model_module": "@jupyter-widgets/controls"
          }
        },
        "dbdb6680110f4aa09189cc6a08578964": {
          "model_module": "@jupyter-widgets/base",
          "model_name": "LayoutModel",
          "model_module_version": "1.2.0",
          "state": {
            "_view_name": "LayoutView",
            "grid_template_rows": null,
            "right": null,
            "justify_content": null,
            "_view_module": "@jupyter-widgets/base",
            "overflow": null,
            "_model_module_version": "1.2.0",
            "_view_count": null,
            "flex_flow": null,
            "width": null,
            "min_width": null,
            "border": null,
            "align_items": null,
            "bottom": null,
            "_model_module": "@jupyter-widgets/base",
            "top": null,
            "grid_column": null,
            "overflow_y": null,
            "overflow_x": null,
            "grid_auto_flow": null,
            "grid_area": null,
            "grid_template_columns": null,
            "flex": null,
            "_model_name": "LayoutModel",
            "justify_items": null,
            "grid_row": null,
            "max_height": null,
            "align_content": null,
            "visibility": null,
            "align_self": null,
            "height": null,
            "min_height": null,
            "padding": null,
            "grid_auto_rows": null,
            "grid_gap": null,
            "max_width": null,
            "order": null,
            "_view_module_version": "1.2.0",
            "grid_template_areas": null,
            "object_position": null,
            "object_fit": null,
            "grid_auto_columns": null,
            "margin": null,
            "display": null,
            "left": null
          }
        },
        "b61d93848f1d4d8ca656ca4c50a2c88c": {
          "model_module": "@jupyter-widgets/controls",
          "model_name": "HBoxModel",
          "model_module_version": "1.5.0",
          "state": {
            "_view_name": "HBoxView",
            "_dom_classes": [],
            "_model_name": "HBoxModel",
            "_view_module": "@jupyter-widgets/controls",
            "_model_module_version": "1.5.0",
            "_view_count": null,
            "_view_module_version": "1.5.0",
            "box_style": "",
            "layout": "IPY_MODEL_4696146670a840879a5c22e840a49295",
            "_model_module": "@jupyter-widgets/controls",
            "children": [
              "IPY_MODEL_258da838177947959dd8ea9c6688248c",
              "IPY_MODEL_59d97b562024421d908e0ed7357e576c",
              "IPY_MODEL_72f24654b0c94a1a8a19520a3dfa5e95"
            ]
          }
        },
        "4696146670a840879a5c22e840a49295": {
          "model_module": "@jupyter-widgets/base",
          "model_name": "LayoutModel",
          "model_module_version": "1.2.0",
          "state": {
            "_view_name": "LayoutView",
            "grid_template_rows": null,
            "right": null,
            "justify_content": null,
            "_view_module": "@jupyter-widgets/base",
            "overflow": null,
            "_model_module_version": "1.2.0",
            "_view_count": null,
            "flex_flow": null,
            "width": null,
            "min_width": null,
            "border": null,
            "align_items": null,
            "bottom": null,
            "_model_module": "@jupyter-widgets/base",
            "top": null,
            "grid_column": null,
            "overflow_y": null,
            "overflow_x": null,
            "grid_auto_flow": null,
            "grid_area": null,
            "grid_template_columns": null,
            "flex": null,
            "_model_name": "LayoutModel",
            "justify_items": null,
            "grid_row": null,
            "max_height": null,
            "align_content": null,
            "visibility": null,
            "align_self": null,
            "height": null,
            "min_height": null,
            "padding": null,
            "grid_auto_rows": null,
            "grid_gap": null,
            "max_width": null,
            "order": null,
            "_view_module_version": "1.2.0",
            "grid_template_areas": null,
            "object_position": null,
            "object_fit": null,
            "grid_auto_columns": null,
            "margin": null,
            "display": null,
            "left": null
          }
        },
        "258da838177947959dd8ea9c6688248c": {
          "model_module": "@jupyter-widgets/controls",
          "model_name": "ButtonModel",
          "model_module_version": "1.5.0",
          "state": {
            "_view_name": "ButtonView",
            "style": "IPY_MODEL_33cea2bcbca54af99c63b275efcc7ab2",
            "_dom_classes": [],
            "description": "6 to 3",
            "_model_name": "ButtonModel",
            "button_style": "",
            "_view_module": "@jupyter-widgets/controls",
            "_model_module_version": "1.5.0",
            "tooltip": "",
            "_view_count": null,
            "disabled": false,
            "_view_module_version": "1.5.0",
            "layout": "IPY_MODEL_2ff37b5363aa4e94b6e59ca41fdefff5",
            "_model_module": "@jupyter-widgets/controls",
            "icon": ""
          }
        },
        "59d97b562024421d908e0ed7357e576c": {
          "model_module": "@jupyter-widgets/controls",
          "model_name": "ButtonModel",
          "model_module_version": "1.5.0",
          "state": {
            "_view_name": "ButtonView",
            "style": "IPY_MODEL_75333babf7c44066b8864cfa020c5ab9",
            "_dom_classes": [],
            "description": "7 to 4",
            "_model_name": "ButtonModel",
            "button_style": "",
            "_view_module": "@jupyter-widgets/controls",
            "_model_module_version": "1.5.0",
            "tooltip": "",
            "_view_count": null,
            "disabled": false,
            "_view_module_version": "1.5.0",
            "layout": "IPY_MODEL_71a89629909a4501a7d89fc6f2489b0d",
            "_model_module": "@jupyter-widgets/controls",
            "icon": ""
          }
        },
        "72f24654b0c94a1a8a19520a3dfa5e95": {
          "model_module": "@jupyter-widgets/controls",
          "model_name": "ButtonModel",
          "model_module_version": "1.5.0",
          "state": {
            "_view_name": "ButtonView",
            "style": "IPY_MODEL_e16156f28ebb40cdb6107729f260f215",
            "_dom_classes": [],
            "description": "8 to 5",
            "_model_name": "ButtonModel",
            "button_style": "",
            "_view_module": "@jupyter-widgets/controls",
            "_model_module_version": "1.5.0",
            "tooltip": "",
            "_view_count": null,
            "disabled": false,
            "_view_module_version": "1.5.0",
            "layout": "IPY_MODEL_8fdc53183ed0444aa2f969fe75629964",
            "_model_module": "@jupyter-widgets/controls",
            "icon": ""
          }
        },
        "33cea2bcbca54af99c63b275efcc7ab2": {
          "model_module": "@jupyter-widgets/controls",
          "model_name": "ButtonStyleModel",
          "model_module_version": "1.5.0",
          "state": {
            "_view_name": "StyleView",
            "_model_name": "ButtonStyleModel",
            "_view_module": "@jupyter-widgets/base",
            "_model_module_version": "1.5.0",
            "_view_count": null,
            "button_color": null,
            "font_weight": "",
            "_view_module_version": "1.2.0",
            "_model_module": "@jupyter-widgets/controls"
          }
        },
        "2ff37b5363aa4e94b6e59ca41fdefff5": {
          "model_module": "@jupyter-widgets/base",
          "model_name": "LayoutModel",
          "model_module_version": "1.2.0",
          "state": {
            "_view_name": "LayoutView",
            "grid_template_rows": null,
            "right": null,
            "justify_content": null,
            "_view_module": "@jupyter-widgets/base",
            "overflow": null,
            "_model_module_version": "1.2.0",
            "_view_count": null,
            "flex_flow": null,
            "width": null,
            "min_width": null,
            "border": null,
            "align_items": null,
            "bottom": null,
            "_model_module": "@jupyter-widgets/base",
            "top": null,
            "grid_column": null,
            "overflow_y": null,
            "overflow_x": null,
            "grid_auto_flow": null,
            "grid_area": null,
            "grid_template_columns": null,
            "flex": null,
            "_model_name": "LayoutModel",
            "justify_items": null,
            "grid_row": null,
            "max_height": null,
            "align_content": null,
            "visibility": null,
            "align_self": null,
            "height": null,
            "min_height": null,
            "padding": null,
            "grid_auto_rows": null,
            "grid_gap": null,
            "max_width": null,
            "order": null,
            "_view_module_version": "1.2.0",
            "grid_template_areas": null,
            "object_position": null,
            "object_fit": null,
            "grid_auto_columns": null,
            "margin": null,
            "display": null,
            "left": null
          }
        },
        "75333babf7c44066b8864cfa020c5ab9": {
          "model_module": "@jupyter-widgets/controls",
          "model_name": "ButtonStyleModel",
          "model_module_version": "1.5.0",
          "state": {
            "_view_name": "StyleView",
            "_model_name": "ButtonStyleModel",
            "_view_module": "@jupyter-widgets/base",
            "_model_module_version": "1.5.0",
            "_view_count": null,
            "button_color": null,
            "font_weight": "",
            "_view_module_version": "1.2.0",
            "_model_module": "@jupyter-widgets/controls"
          }
        },
        "71a89629909a4501a7d89fc6f2489b0d": {
          "model_module": "@jupyter-widgets/base",
          "model_name": "LayoutModel",
          "model_module_version": "1.2.0",
          "state": {
            "_view_name": "LayoutView",
            "grid_template_rows": null,
            "right": null,
            "justify_content": null,
            "_view_module": "@jupyter-widgets/base",
            "overflow": null,
            "_model_module_version": "1.2.0",
            "_view_count": null,
            "flex_flow": null,
            "width": null,
            "min_width": null,
            "border": null,
            "align_items": null,
            "bottom": null,
            "_model_module": "@jupyter-widgets/base",
            "top": null,
            "grid_column": null,
            "overflow_y": null,
            "overflow_x": null,
            "grid_auto_flow": null,
            "grid_area": null,
            "grid_template_columns": null,
            "flex": null,
            "_model_name": "LayoutModel",
            "justify_items": null,
            "grid_row": null,
            "max_height": null,
            "align_content": null,
            "visibility": null,
            "align_self": null,
            "height": null,
            "min_height": null,
            "padding": null,
            "grid_auto_rows": null,
            "grid_gap": null,
            "max_width": null,
            "order": null,
            "_view_module_version": "1.2.0",
            "grid_template_areas": null,
            "object_position": null,
            "object_fit": null,
            "grid_auto_columns": null,
            "margin": null,
            "display": null,
            "left": null
          }
        },
        "e16156f28ebb40cdb6107729f260f215": {
          "model_module": "@jupyter-widgets/controls",
          "model_name": "ButtonStyleModel",
          "model_module_version": "1.5.0",
          "state": {
            "_view_name": "StyleView",
            "_model_name": "ButtonStyleModel",
            "_view_module": "@jupyter-widgets/base",
            "_model_module_version": "1.5.0",
            "_view_count": null,
            "button_color": null,
            "font_weight": "",
            "_view_module_version": "1.2.0",
            "_model_module": "@jupyter-widgets/controls"
          }
        },
        "8fdc53183ed0444aa2f969fe75629964": {
          "model_module": "@jupyter-widgets/base",
          "model_name": "LayoutModel",
          "model_module_version": "1.2.0",
          "state": {
            "_view_name": "LayoutView",
            "grid_template_rows": null,
            "right": null,
            "justify_content": null,
            "_view_module": "@jupyter-widgets/base",
            "overflow": null,
            "_model_module_version": "1.2.0",
            "_view_count": null,
            "flex_flow": null,
            "width": null,
            "min_width": null,
            "border": null,
            "align_items": null,
            "bottom": null,
            "_model_module": "@jupyter-widgets/base",
            "top": null,
            "grid_column": null,
            "overflow_y": null,
            "overflow_x": null,
            "grid_auto_flow": null,
            "grid_area": null,
            "grid_template_columns": null,
            "flex": null,
            "_model_name": "LayoutModel",
            "justify_items": null,
            "grid_row": null,
            "max_height": null,
            "align_content": null,
            "visibility": null,
            "align_self": null,
            "height": null,
            "min_height": null,
            "padding": null,
            "grid_auto_rows": null,
            "grid_gap": null,
            "max_width": null,
            "order": null,
            "_view_module_version": "1.2.0",
            "grid_template_areas": null,
            "object_position": null,
            "object_fit": null,
            "grid_auto_columns": null,
            "margin": null,
            "display": null,
            "left": null
          }
        },
        "58a46717aa554efc9dbccc636c21a1b2": {
          "model_module": "@jupyter-widgets/controls",
          "model_name": "HBoxModel",
          "model_module_version": "1.5.0",
          "state": {
            "_view_name": "HBoxView",
            "_dom_classes": [],
            "_model_name": "HBoxModel",
            "_view_module": "@jupyter-widgets/controls",
            "_model_module_version": "1.5.0",
            "_view_count": null,
            "_view_module_version": "1.5.0",
            "box_style": "",
            "layout": "IPY_MODEL_4685b8a8fd234661bda232ffcea9ea55",
            "_model_module": "@jupyter-widgets/controls",
            "children": [
              "IPY_MODEL_b84d35b29d4445bbb6dfe180f05c9992",
              "IPY_MODEL_ec41c906539d4940a2844e9c79add98a",
              "IPY_MODEL_8cf10e0f453c423fa0d0f40d87187f36",
              "IPY_MODEL_04a43e50f4b8487398095a839054541a"
            ]
          }
        },
        "4685b8a8fd234661bda232ffcea9ea55": {
          "model_module": "@jupyter-widgets/base",
          "model_name": "LayoutModel",
          "model_module_version": "1.2.0",
          "state": {
            "_view_name": "LayoutView",
            "grid_template_rows": null,
            "right": null,
            "justify_content": null,
            "_view_module": "@jupyter-widgets/base",
            "overflow": null,
            "_model_module_version": "1.2.0",
            "_view_count": null,
            "flex_flow": null,
            "width": null,
            "min_width": null,
            "border": null,
            "align_items": null,
            "bottom": null,
            "_model_module": "@jupyter-widgets/base",
            "top": null,
            "grid_column": null,
            "overflow_y": null,
            "overflow_x": null,
            "grid_auto_flow": null,
            "grid_area": null,
            "grid_template_columns": null,
            "flex": null,
            "_model_name": "LayoutModel",
            "justify_items": null,
            "grid_row": null,
            "max_height": null,
            "align_content": null,
            "visibility": null,
            "align_self": null,
            "height": null,
            "min_height": null,
            "padding": null,
            "grid_auto_rows": null,
            "grid_gap": null,
            "max_width": null,
            "order": null,
            "_view_module_version": "1.2.0",
            "grid_template_areas": null,
            "object_position": null,
            "object_fit": null,
            "grid_auto_columns": null,
            "margin": null,
            "display": null,
            "left": null
          }
        },
        "b84d35b29d4445bbb6dfe180f05c9992": {
          "model_module": "@jupyter-widgets/controls",
          "model_name": "ButtonModel",
          "model_module_version": "1.5.0",
          "state": {
            "_view_name": "ButtonView",
            "style": "IPY_MODEL_e6640dee59f24b7caf4f0e626662859c",
            "_dom_classes": [],
            "description": "6 to 3",
            "_model_name": "ButtonModel",
            "button_style": "",
            "_view_module": "@jupyter-widgets/controls",
            "_model_module_version": "1.5.0",
            "tooltip": "",
            "_view_count": null,
            "disabled": false,
            "_view_module_version": "1.5.0",
            "layout": "IPY_MODEL_f985d2beb86549bfaa13f58fd0f0ddea",
            "_model_module": "@jupyter-widgets/controls",
            "icon": ""
          }
        },
        "ec41c906539d4940a2844e9c79add98a": {
          "model_module": "@jupyter-widgets/controls",
          "model_name": "ButtonModel",
          "model_module_version": "1.5.0",
          "state": {
            "_view_name": "ButtonView",
            "style": "IPY_MODEL_a957025eb03946588fb4afc089ad4a2c",
            "_dom_classes": [],
            "description": "6 to 4",
            "_model_name": "ButtonModel",
            "button_style": "",
            "_view_module": "@jupyter-widgets/controls",
            "_model_module_version": "1.5.0",
            "tooltip": "",
            "_view_count": null,
            "disabled": false,
            "_view_module_version": "1.5.0",
            "layout": "IPY_MODEL_a088791612d447299297b2407298c4c9",
            "_model_module": "@jupyter-widgets/controls",
            "icon": ""
          }
        },
        "8cf10e0f453c423fa0d0f40d87187f36": {
          "model_module": "@jupyter-widgets/controls",
          "model_name": "ButtonModel",
          "model_module_version": "1.5.0",
          "state": {
            "_view_name": "ButtonView",
            "style": "IPY_MODEL_e1b9ec038eab4b1ca34cef950e2d610a",
            "_dom_classes": [],
            "description": "8 to 5",
            "_model_name": "ButtonModel",
            "button_style": "",
            "_view_module": "@jupyter-widgets/controls",
            "_model_module_version": "1.5.0",
            "tooltip": "",
            "_view_count": null,
            "disabled": false,
            "_view_module_version": "1.5.0",
            "layout": "IPY_MODEL_56a2dd5673024e2699984f380f022d73",
            "_model_module": "@jupyter-widgets/controls",
            "icon": ""
          }
        },
        "04a43e50f4b8487398095a839054541a": {
          "model_module": "@jupyter-widgets/controls",
          "model_name": "ButtonModel",
          "model_module_version": "1.5.0",
          "state": {
            "_view_name": "ButtonView",
            "style": "IPY_MODEL_d3a2e954ff7c40f3a2979d2b3ee927b5",
            "_dom_classes": [],
            "description": "8 to 4",
            "_model_name": "ButtonModel",
            "button_style": "",
            "_view_module": "@jupyter-widgets/controls",
            "_model_module_version": "1.5.0",
            "tooltip": "",
            "_view_count": null,
            "disabled": false,
            "_view_module_version": "1.5.0",
            "layout": "IPY_MODEL_8122204f1bea468f9418492e73993db9",
            "_model_module": "@jupyter-widgets/controls",
            "icon": ""
          }
        },
        "e6640dee59f24b7caf4f0e626662859c": {
          "model_module": "@jupyter-widgets/controls",
          "model_name": "ButtonStyleModel",
          "model_module_version": "1.5.0",
          "state": {
            "_view_name": "StyleView",
            "_model_name": "ButtonStyleModel",
            "_view_module": "@jupyter-widgets/base",
            "_model_module_version": "1.5.0",
            "_view_count": null,
            "button_color": null,
            "font_weight": "",
            "_view_module_version": "1.2.0",
            "_model_module": "@jupyter-widgets/controls"
          }
        },
        "f985d2beb86549bfaa13f58fd0f0ddea": {
          "model_module": "@jupyter-widgets/base",
          "model_name": "LayoutModel",
          "model_module_version": "1.2.0",
          "state": {
            "_view_name": "LayoutView",
            "grid_template_rows": null,
            "right": null,
            "justify_content": null,
            "_view_module": "@jupyter-widgets/base",
            "overflow": null,
            "_model_module_version": "1.2.0",
            "_view_count": null,
            "flex_flow": null,
            "width": null,
            "min_width": null,
            "border": null,
            "align_items": null,
            "bottom": null,
            "_model_module": "@jupyter-widgets/base",
            "top": null,
            "grid_column": null,
            "overflow_y": null,
            "overflow_x": null,
            "grid_auto_flow": null,
            "grid_area": null,
            "grid_template_columns": null,
            "flex": null,
            "_model_name": "LayoutModel",
            "justify_items": null,
            "grid_row": null,
            "max_height": null,
            "align_content": null,
            "visibility": null,
            "align_self": null,
            "height": null,
            "min_height": null,
            "padding": null,
            "grid_auto_rows": null,
            "grid_gap": null,
            "max_width": null,
            "order": null,
            "_view_module_version": "1.2.0",
            "grid_template_areas": null,
            "object_position": null,
            "object_fit": null,
            "grid_auto_columns": null,
            "margin": null,
            "display": null,
            "left": null
          }
        },
        "a957025eb03946588fb4afc089ad4a2c": {
          "model_module": "@jupyter-widgets/controls",
          "model_name": "ButtonStyleModel",
          "model_module_version": "1.5.0",
          "state": {
            "_view_name": "StyleView",
            "_model_name": "ButtonStyleModel",
            "_view_module": "@jupyter-widgets/base",
            "_model_module_version": "1.5.0",
            "_view_count": null,
            "button_color": null,
            "font_weight": "",
            "_view_module_version": "1.2.0",
            "_model_module": "@jupyter-widgets/controls"
          }
        },
        "a088791612d447299297b2407298c4c9": {
          "model_module": "@jupyter-widgets/base",
          "model_name": "LayoutModel",
          "model_module_version": "1.2.0",
          "state": {
            "_view_name": "LayoutView",
            "grid_template_rows": null,
            "right": null,
            "justify_content": null,
            "_view_module": "@jupyter-widgets/base",
            "overflow": null,
            "_model_module_version": "1.2.0",
            "_view_count": null,
            "flex_flow": null,
            "width": null,
            "min_width": null,
            "border": null,
            "align_items": null,
            "bottom": null,
            "_model_module": "@jupyter-widgets/base",
            "top": null,
            "grid_column": null,
            "overflow_y": null,
            "overflow_x": null,
            "grid_auto_flow": null,
            "grid_area": null,
            "grid_template_columns": null,
            "flex": null,
            "_model_name": "LayoutModel",
            "justify_items": null,
            "grid_row": null,
            "max_height": null,
            "align_content": null,
            "visibility": null,
            "align_self": null,
            "height": null,
            "min_height": null,
            "padding": null,
            "grid_auto_rows": null,
            "grid_gap": null,
            "max_width": null,
            "order": null,
            "_view_module_version": "1.2.0",
            "grid_template_areas": null,
            "object_position": null,
            "object_fit": null,
            "grid_auto_columns": null,
            "margin": null,
            "display": null,
            "left": null
          }
        },
        "e1b9ec038eab4b1ca34cef950e2d610a": {
          "model_module": "@jupyter-widgets/controls",
          "model_name": "ButtonStyleModel",
          "model_module_version": "1.5.0",
          "state": {
            "_view_name": "StyleView",
            "_model_name": "ButtonStyleModel",
            "_view_module": "@jupyter-widgets/base",
            "_model_module_version": "1.5.0",
            "_view_count": null,
            "button_color": null,
            "font_weight": "",
            "_view_module_version": "1.2.0",
            "_model_module": "@jupyter-widgets/controls"
          }
        },
        "56a2dd5673024e2699984f380f022d73": {
          "model_module": "@jupyter-widgets/base",
          "model_name": "LayoutModel",
          "model_module_version": "1.2.0",
          "state": {
            "_view_name": "LayoutView",
            "grid_template_rows": null,
            "right": null,
            "justify_content": null,
            "_view_module": "@jupyter-widgets/base",
            "overflow": null,
            "_model_module_version": "1.2.0",
            "_view_count": null,
            "flex_flow": null,
            "width": null,
            "min_width": null,
            "border": null,
            "align_items": null,
            "bottom": null,
            "_model_module": "@jupyter-widgets/base",
            "top": null,
            "grid_column": null,
            "overflow_y": null,
            "overflow_x": null,
            "grid_auto_flow": null,
            "grid_area": null,
            "grid_template_columns": null,
            "flex": null,
            "_model_name": "LayoutModel",
            "justify_items": null,
            "grid_row": null,
            "max_height": null,
            "align_content": null,
            "visibility": null,
            "align_self": null,
            "height": null,
            "min_height": null,
            "padding": null,
            "grid_auto_rows": null,
            "grid_gap": null,
            "max_width": null,
            "order": null,
            "_view_module_version": "1.2.0",
            "grid_template_areas": null,
            "object_position": null,
            "object_fit": null,
            "grid_auto_columns": null,
            "margin": null,
            "display": null,
            "left": null
          }
        },
        "d3a2e954ff7c40f3a2979d2b3ee927b5": {
          "model_module": "@jupyter-widgets/controls",
          "model_name": "ButtonStyleModel",
          "model_module_version": "1.5.0",
          "state": {
            "_view_name": "StyleView",
            "_model_name": "ButtonStyleModel",
            "_view_module": "@jupyter-widgets/base",
            "_model_module_version": "1.5.0",
            "_view_count": null,
            "button_color": null,
            "font_weight": "",
            "_view_module_version": "1.2.0",
            "_model_module": "@jupyter-widgets/controls"
          }
        },
        "8122204f1bea468f9418492e73993db9": {
          "model_module": "@jupyter-widgets/base",
          "model_name": "LayoutModel",
          "model_module_version": "1.2.0",
          "state": {
            "_view_name": "LayoutView",
            "grid_template_rows": null,
            "right": null,
            "justify_content": null,
            "_view_module": "@jupyter-widgets/base",
            "overflow": null,
            "_model_module_version": "1.2.0",
            "_view_count": null,
            "flex_flow": null,
            "width": null,
            "min_width": null,
            "border": null,
            "align_items": null,
            "bottom": null,
            "_model_module": "@jupyter-widgets/base",
            "top": null,
            "grid_column": null,
            "overflow_y": null,
            "overflow_x": null,
            "grid_auto_flow": null,
            "grid_area": null,
            "grid_template_columns": null,
            "flex": null,
            "_model_name": "LayoutModel",
            "justify_items": null,
            "grid_row": null,
            "max_height": null,
            "align_content": null,
            "visibility": null,
            "align_self": null,
            "height": null,
            "min_height": null,
            "padding": null,
            "grid_auto_rows": null,
            "grid_gap": null,
            "max_width": null,
            "order": null,
            "_view_module_version": "1.2.0",
            "grid_template_areas": null,
            "object_position": null,
            "object_fit": null,
            "grid_auto_columns": null,
            "margin": null,
            "display": null,
            "left": null
          }
        },
        "0dc907206a144fcea5b05da3ebd5baec": {
          "model_module": "@jupyter-widgets/controls",
          "model_name": "HBoxModel",
          "model_module_version": "1.5.0",
          "state": {
            "_view_name": "HBoxView",
            "_dom_classes": [],
            "_model_name": "HBoxModel",
            "_view_module": "@jupyter-widgets/controls",
            "_model_module_version": "1.5.0",
            "_view_count": null,
            "_view_module_version": "1.5.0",
            "box_style": "",
            "layout": "IPY_MODEL_6863e5b8e4d74711a1abe089f54e4a8f",
            "_model_module": "@jupyter-widgets/controls",
            "children": []
          }
        },
        "6863e5b8e4d74711a1abe089f54e4a8f": {
          "model_module": "@jupyter-widgets/base",
          "model_name": "LayoutModel",
          "model_module_version": "1.2.0",
          "state": {
            "_view_name": "LayoutView",
            "grid_template_rows": null,
            "right": null,
            "justify_content": null,
            "_view_module": "@jupyter-widgets/base",
            "overflow": null,
            "_model_module_version": "1.2.0",
            "_view_count": null,
            "flex_flow": null,
            "width": null,
            "min_width": null,
            "border": null,
            "align_items": null,
            "bottom": null,
            "_model_module": "@jupyter-widgets/base",
            "top": null,
            "grid_column": null,
            "overflow_y": null,
            "overflow_x": null,
            "grid_auto_flow": null,
            "grid_area": null,
            "grid_template_columns": null,
            "flex": null,
            "_model_name": "LayoutModel",
            "justify_items": null,
            "grid_row": null,
            "max_height": null,
            "align_content": null,
            "visibility": null,
            "align_self": null,
            "height": null,
            "min_height": null,
            "padding": null,
            "grid_auto_rows": null,
            "grid_gap": null,
            "max_width": null,
            "order": null,
            "_view_module_version": "1.2.0",
            "grid_template_areas": null,
            "object_position": null,
            "object_fit": null,
            "grid_auto_columns": null,
            "margin": null,
            "display": null,
            "left": null
          }
        },
        "ead81eddb6d343a2982f6b34692f3315": {
          "model_module": "@jupyter-widgets/controls",
          "model_name": "HBoxModel",
          "model_module_version": "1.5.0",
          "state": {
            "_view_name": "HBoxView",
            "_dom_classes": [],
            "_model_name": "HBoxModel",
            "_view_module": "@jupyter-widgets/controls",
            "_model_module_version": "1.5.0",
            "_view_count": null,
            "_view_module_version": "1.5.0",
            "box_style": "",
            "layout": "IPY_MODEL_7118c56aaaf3480386f66580b61885e7",
            "_model_module": "@jupyter-widgets/controls",
            "children": []
          }
        },
        "7118c56aaaf3480386f66580b61885e7": {
          "model_module": "@jupyter-widgets/base",
          "model_name": "LayoutModel",
          "model_module_version": "1.2.0",
          "state": {
            "_view_name": "LayoutView",
            "grid_template_rows": null,
            "right": null,
            "justify_content": null,
            "_view_module": "@jupyter-widgets/base",
            "overflow": null,
            "_model_module_version": "1.2.0",
            "_view_count": null,
            "flex_flow": null,
            "width": null,
            "min_width": null,
            "border": null,
            "align_items": null,
            "bottom": null,
            "_model_module": "@jupyter-widgets/base",
            "top": null,
            "grid_column": null,
            "overflow_y": null,
            "overflow_x": null,
            "grid_auto_flow": null,
            "grid_area": null,
            "grid_template_columns": null,
            "flex": null,
            "_model_name": "LayoutModel",
            "justify_items": null,
            "grid_row": null,
            "max_height": null,
            "align_content": null,
            "visibility": null,
            "align_self": null,
            "height": null,
            "min_height": null,
            "padding": null,
            "grid_auto_rows": null,
            "grid_gap": null,
            "max_width": null,
            "order": null,
            "_view_module_version": "1.2.0",
            "grid_template_areas": null,
            "object_position": null,
            "object_fit": null,
            "grid_auto_columns": null,
            "margin": null,
            "display": null,
            "left": null
          }
        }
      }
    }
  },
  "cells": [
    {
      "cell_type": "markdown",
      "metadata": {
        "id": "view-in-github",
        "colab_type": "text"
      },
      "source": [
        "<a href=\"https://colab.research.google.com/github/Javicobos/MENACE22/blob/main/Hexapawn.ipynb\" target=\"_parent\"><img src=\"https://colab.research.google.com/assets/colab-badge.svg\" alt=\"Open In Colab\"/></a>"
      ]
    },
    {
      "cell_type": "markdown",
      "source": [
        "# Set up"
      ],
      "metadata": {
        "id": "7fimT_Ttv92g"
      }
    },
    {
      "cell_type": "markdown",
      "source": [
        "## Setting up all possible Hexapawn boards"
      ],
      "metadata": {
        "id": "d8-F9eMYn-gE"
      }
    },
    {
      "cell_type": "markdown",
      "source": [
        "Based on [this](http://cs.williams.edu/~freund/cs136-073/GardnerHexapawn.pdf)."
      ],
      "metadata": {
        "id": "QIC5V-dm0RI6"
      }
    },
    {
      "cell_type": "code",
      "execution_count": 18,
      "metadata": {
        "id": "wbB6rX7U0HGV"
      },
      "outputs": [],
      "source": [
        "# Let's start with a basic matrix (that will actually be a list)\n",
        "gameBoard = [1,1,1,\n",
        "             0,0,0,\n",
        "             2,2,2]\n",
        "# Positions are numbered like this:\n",
        "#           [0,1,2,\n",
        "#            3,4,5,\n",
        "#            6,7,8]"
      ]
    },
    {
      "cell_type": "code",
      "source": [
        "def can_move(piece):\n",
        "    if piece == 1:\n",
        "        for i, ele in enumerate(gameBoard[:6]):\n",
        "            if ele == 1:\n",
        "                if gameBoard[i + 3] == 0:\n",
        "                    return 1\n",
        "                if (i%3)%2 == 0:                    # side piece\n",
        "                    if (i%3) == 0:                  # left edge \n",
        "                        if gameBoard[i + 4] == 2:\n",
        "                            return 1\n",
        "                    else:\n",
        "                        if gameBoard[i + 2] == 2:\n",
        "                            return 1\n",
        "                else:                               # middle piece\n",
        "                    if gameBoard[i + 2] == 2:       # eat left\n",
        "                        return 1\n",
        "                    if gameBoard[i + 4] == 2:       # eat right\n",
        "                        return 1\n",
        "    else:\n",
        "        for i, ele in enumerate(gameBoard[3:]):\n",
        "            if ele == 2:\n",
        "                if gameBoard[i+3 - 3]  == 0:          # forward\n",
        "                    return 2\n",
        "                if ((i+3)%3)%2 == 0:                    # side piece\n",
        "                    if ((i+3)%3) == 0:                  # left edge\n",
        "                        if gameBoard[i+3 - 2] == 1:   # 3 to 1, 6 to 4\n",
        "                            return 2\n",
        "                    else:                           # right edge\n",
        "                        if gameBoard[i+3 - 4] == 1:\n",
        "                            return 2\n",
        "                else:                               # middle piece\n",
        "                    if gameBoard[i+3 - 2] == 1:       # eat left\n",
        "                        return 2\n",
        "                    if gameBoard[i+3 - 4] == 1:       # eat right\n",
        "                        return 2\n",
        "    return 0\n",
        "\n",
        "def game_over():\n",
        "    if 1 in gameBoard[6:]:\n",
        "        return 1                        # 1 reached the end of the board\n",
        "    if 2 in gameBoard[:3]:\n",
        "        return 2                        # 2 reached the end of the board\n",
        "    return 0                            # game is not over"
      ],
      "metadata": {
        "id": "qjjEGm4i0gxS"
      },
      "execution_count": 19,
      "outputs": []
    },
    {
      "cell_type": "code",
      "source": [
        "# Let's make a file with the \"boxes\"\n",
        "# Copying the boxes would take a tenth of the time\n",
        "# But I wanted to practice so let's program making them\n",
        "outputFile = open('Hexapawn_Boxes.txt', 'w')\n",
        "allBoards = []\n",
        "\n",
        "def sym(k):\n",
        "    return k - 2*(k%3) + 2\n",
        "    # map { (0,2), (1,1), (2,0)\n",
        "    #       (3,5), (4,4), (5,3)\n",
        "    #       (6,8), (7,7), (8,6) }\n",
        "\n",
        "def after_move(piece):\n",
        "    #if gameBoard == [0,0,1,2,2,2,0,0,0]:\n",
        "    #    print (\"it is here\")\n",
        "    #if gameBoard == [1,0,0,2,2,2,0,0,0]:\n",
        "    #    print (\"it is here sym after\")\n",
        "    if gameBoard not in allBoards:\n",
        "        for k, ele in enumerate(gameBoard): #super inefficient idc\n",
        "            symmetricBoard[ sym(k) ] = ele\n",
        "            #if k%3 == 0:\n",
        "            #    symmetricBoard[k + 2] = ele\n",
        "            #elif k%3 == 1:\n",
        "            #    symmetricBoard[k] = ele\n",
        "            #elif k%3 == 2:\n",
        "            #    symmetricBoard[k-2] = ele\n",
        "        if symmetricBoard not in allBoards:\n",
        "            # if symmetric is not here\n",
        "            #print (\"we append a new board\")\n",
        "            #print (gameBoard)\n",
        "            #print (allBoards)\n",
        "            if piece == 1:\n",
        "                two_moves()\n",
        "            else:\n",
        "                allBoards.append(gameBoard[:])\n",
        "                one_moves()\n",
        "    #else:\n",
        "        #print (game_over_result)\n",
        "        #print (\"Game Over\")\n",
        "        #print (gameBoard)\n",
        "def move_piece(piece, start, end):  # underPiece is to undo eating\n",
        "    underPiece = gameBoard[end]\n",
        "    gameBoard[start] = 0\n",
        "    gameBoard[end] = piece\n",
        "\n",
        "    if game_over() == 0 and can_move(-piece + 3) != 0:  # -piece + 3 sends 2 to 1 and 1 to 2\n",
        "        after_move(piece)\n",
        "\n",
        "    gameBoard[end] = underPiece\n",
        "    gameBoard[start] = piece\n",
        "\n",
        "def two_moves():\n",
        "    for i, ele in enumerate(gameBoard[3:]):\n",
        "        if ele == 2:\n",
        "            if gameBoard[i+3 - 3]  == 0:          # forward\n",
        "                move_piece(2, i+3 , i+3 -3)\n",
        "            if ((i+3)%3)%2 == 0:                    # side piece\n",
        "                if ((i+3)%3) == 0:                  # left edge\n",
        "                    if gameBoard[i+3 - 2] == 1:   # 3 to 1, 6 to 4\n",
        "                        move_piece(2, i+3, i+3-2)\n",
        "                else:                           # right edge\n",
        "                    if gameBoard[i+3 - 4] == 1:\n",
        "                        move_piece(2, i+3, i+3-4)\n",
        "            else:                               # middle piece\n",
        "                if gameBoard[i+3 - 2] == 1:       # eat left\n",
        "                    move_piece(2, i+3, i+3-2)\n",
        "                if gameBoard[i+3 - 4] == 1:       # eat right\n",
        "                    move_piece(2, i+3, i+3-4)\n",
        "def one_moves():\n",
        "    for i, ele in enumerate(gameBoard[:6]):\n",
        "        if ele == 1:\n",
        "            if gameBoard[i + 3] == 0:\n",
        "                move_piece(1, i, i+3)\n",
        "            if (i%3)%2 == 0:                    # side piece\n",
        "                if (i%3) == 0:                  # left edge \n",
        "                    if gameBoard[i + 4] == 2:\n",
        "                        move_piece(1, i, i + 4)\n",
        "                else:\n",
        "                    if gameBoard[i + 2] == 2:\n",
        "                        move_piece(1, i, i + 2)\n",
        "            else:                               # middle piece\n",
        "                if gameBoard[i + 2] == 2:       # eat left\n",
        "                    move_piece(1, i, i+2)\n",
        "                if gameBoard[i + 4] == 2:       # eat right\n",
        "                    move_piece(1, i, i+4)\n",
        "\n",
        "#           [0,1,2,\n",
        "#            3,4,5,\n",
        "#            6,7,8]\n",
        "# from 3, top diagonal is 1\n",
        "# from 4, top diagonals are 0 and 2\n",
        "# from 5, top diagonal is 1\n",
        "# from 6, top diagonal is 4\n",
        "# from 7, top diagonals are 3 and 5\n",
        "# from 8, top diagonal is 4\n",
        "\n",
        "    \n"
      ],
      "metadata": {
        "id": "MvklfF-A2_Av"
      },
      "execution_count": 20,
      "outputs": []
    },
    {
      "cell_type": "code",
      "source": [
        "allBoards = []\n",
        "gameBoard = [1,1,1,\n",
        "             0,0,0,\n",
        "             2,2,2]\n",
        "symmetricBoard =    [1,1,1,\n",
        "                    0,0,0,\n",
        "                    2,2,2]\n",
        "two_moves()\n",
        "print (allBoards)\n",
        "\n",
        "outputFile = open('Hexapawn_Boxes.txt', 'w')\n",
        "for num, i in enumerate(allBoards):\n",
        "    outputFile.write(str(i[:3]) + '\\n')\n",
        "    outputFile.write(str(i[3:6]) + '\\n')\n",
        "    outputFile.write(str(i[6:]) + '\\n')\n",
        "    outputFile.write(\"that was the \" + str(num) + \" board\" + '\\n' + '\\n')"
      ],
      "metadata": {
        "id": "jHiw4-TOF2eK",
        "colab": {
          "base_uri": "https://localhost:8080/"
        },
        "outputId": "fd9c0c8c-6b7b-4a48-82a8-7999dc6c3d6b"
      },
      "execution_count": 21,
      "outputs": [
        {
          "output_type": "stream",
          "name": "stdout",
          "text": [
            "[[1, 1, 1, 2, 0, 0, 0, 2, 2], [1, 0, 1, 2, 2, 0, 0, 2, 0], [1, 0, 0, 2, 2, 2, 0, 0, 0], [1, 0, 1, 1, 2, 0, 0, 0, 2], [0, 0, 1, 1, 1, 2, 0, 0, 0], [0, 0, 1, 1, 2, 0, 0, 0, 0], [1, 0, 0, 1, 1, 2, 0, 0, 0], [1, 0, 0, 1, 2, 0, 0, 0, 0], [1, 0, 1, 2, 0, 0, 0, 0, 2], [1, 0, 1, 1, 0, 2, 0, 2, 0], [1, 1, 0, 2, 2, 1, 0, 0, 2], [0, 1, 0, 2, 2, 1, 0, 0, 0], [1, 1, 0, 2, 0, 2, 0, 0, 2], [1, 1, 1, 0, 2, 0, 2, 0, 2], [0, 1, 1, 2, 1, 0, 0, 0, 2], [0, 1, 1, 0, 2, 0, 0, 0, 2], [0, 1, 0, 0, 1, 2, 0, 0, 0], [0, 1, 1, 0, 1, 2, 2, 0, 0], [0, 1, 1, 0, 2, 0, 2, 0, 0]]\n"
          ]
        }
      ]
    },
    {
      "cell_type": "markdown",
      "source": [
        "## Setting up all possible moves"
      ],
      "metadata": {
        "id": "IV75rvoIoRu4"
      }
    },
    {
      "cell_type": "code",
      "source": [
        "all_moves_list = []\n",
        "all_moves_descriptive = []\n",
        "def moves_list():\n",
        "    for e, board in enumerate(allBoards):\n",
        "        all_moves_list.append([])\n",
        "        all_moves_descriptive.append([])\n",
        "        for i, ele in enumerate(board[:6]):\n",
        "            if ele == 1:\n",
        "                if board[i + 3] == 0:\n",
        "                    all_moves_list[-1].append(1)\n",
        "                    all_moves_descriptive[-1].append((i, i+3))\n",
        "                if (i%3)%2 == 0:                    # side piece\n",
        "                    if (i%3) == 0:                  # left edge \n",
        "                        if board[i + 4] == 2:\n",
        "                            all_moves_list[-1].append(1)\n",
        "                            all_moves_descriptive[-1].append((i, i+4))\n",
        "                    else:\n",
        "                        if board[i + 2] == 2:\n",
        "                            all_moves_list[-1].append(1)\n",
        "                            all_moves_descriptive[-1].append((i, i+2))\n",
        "                else:                               # middle piece\n",
        "                    if board[i + 2] == 2:       # eat left\n",
        "                        all_moves_list[-1].append(1)\n",
        "                        all_moves_descriptive[-1].append((i, i+2))\n",
        "                    if board[i + 4] == 2:       # eat right\n",
        "                        all_moves_list[-1].append(1)\n",
        "                        all_moves_descriptive[-1].append((i, i+4))\n",
        "\n",
        "moves_list()          \n",
        "print (all_moves_list)\n",
        "print (all_moves_descriptive)"
      ],
      "metadata": {
        "colab": {
          "base_uri": "https://localhost:8080/"
        },
        "id": "kfhdR9FJfARa",
        "outputId": "c1b617c0-8e50-4102-9bdd-13071f5eed1c"
      },
      "execution_count": 22,
      "outputs": [
        {
          "output_type": "stream",
          "name": "stdout",
          "text": [
            "[[1, 1, 1], [1, 1, 1], [1], [1, 1, 1, 1], [1, 1], [1, 1, 1], [1, 1], [1, 1], [1], [1, 1], [1, 1], [1, 1], [1, 1, 1], [1, 1, 1, 1], [1, 1, 1, 1], [1, 1], [1, 1], [1, 1, 1], [1, 1]]\n",
            "[[(1, 4), (1, 3), (2, 5)], [(0, 4), (2, 5), (2, 4)], [(0, 4)], [(0, 4), (2, 5), (2, 4), (3, 6)], [(3, 6), (4, 7)], [(2, 5), (2, 4), (3, 6)], [(3, 6), (4, 7)], [(0, 4), (3, 6)], [(2, 5)], [(3, 6), (3, 7)], [(0, 4), (1, 3)], [(1, 3), (5, 8)], [(1, 4), (1, 3), (1, 5)], [(0, 3), (0, 4), (2, 5), (2, 4)], [(1, 3), (2, 5), (4, 7), (4, 8)], [(2, 5), (2, 4)], [(1, 5), (4, 7)], [(1, 5), (4, 7), (4, 6)], [(2, 5), (2, 4)]]\n"
          ]
        }
      ]
    },
    {
      "cell_type": "markdown",
      "source": [
        "# Picking the machine's moves"
      ],
      "metadata": {
        "id": "AHSYm0i_oezg"
      }
    },
    {
      "cell_type": "code",
      "source": [
        "import random"
      ],
      "metadata": {
        "id": "Y2MsdDxRQ-tD"
      },
      "execution_count": 80,
      "outputs": []
    },
    {
      "cell_type": "code",
      "source": [
        "def pick_move(boardIndex):\n",
        "    currentMovesList = all_moves_list[boardIndex]\n",
        "    #currentMovesDescriptor = all_moves_descriptive[boardIndex]\n",
        "    totalBeads = 0\n",
        "    for i in currentMovesList:\n",
        "        totalBeads += i\n",
        "    if totalBeads == 0:\n",
        "        return -1\n",
        "    chosenMove = random.randint(1, totalBeads)\n",
        "    usedBeads = 0\n",
        "    for j, ele in enumerate(currentMovesList):\n",
        "        usedBeads += ele\n",
        "        if usedBeads >= chosenMove:\n",
        "            return j\n",
        "\n",
        "print (all_moves_descriptive[3][pick_move(3)])"
      ],
      "metadata": {
        "id": "8OXN4gFULFZr",
        "colab": {
          "base_uri": "https://localhost:8080/"
        },
        "outputId": "61b5377c-502e-4714-9ced-4e395b339396"
      },
      "execution_count": 81,
      "outputs": [
        {
          "output_type": "stream",
          "name": "stdout",
          "text": [
            "(3, 6)\n"
          ]
        }
      ]
    },
    {
      "cell_type": "code",
      "source": [
        "gameBoard = [1,1,1,\n",
        "             0,0,0,\n",
        "             2,2,2]\n",
        "\n",
        "def print_board():\n",
        "    print (gameBoard[:3])\n",
        "    print (gameBoard[3:6])\n",
        "    print (gameBoard[6:])\n",
        "    print ()\n",
        "\n",
        "def simple_move_piece(piece, start, end):  \n",
        "    gameBoard[start] = 0\n",
        "    gameBoard[end] = piece\n",
        "\n",
        "#print (all_moves_descriptive[allBoards.index(gameBoard)][pick_move(allBoards.index(gameBoard))])\n",
        "\n",
        "moves_in_game = []\n",
        "\n",
        "def do_move():                          # need to save our moves and reinforce after w/l\n",
        "    #print (game_over())\n",
        "    if game_over() == 2 or can_move(1) == 0:\n",
        "        print_board()\n",
        "        print (\"you win, human\")\n",
        "        reinforce()\n",
        "        return\n",
        "    print (\"your move:\")\n",
        "    print_board()\n",
        "    if gameBoard not in allBoards:      \n",
        "        for k, ele in enumerate(gameBoard): \n",
        "            symmetricBoard[k - 2*(k%3) + 2] = ele\n",
        "        if symmetricBoard not in allBoards:\n",
        "            print (\"something went wrong\")\n",
        "            print (gameBoard)\n",
        "            print (symmetricBoard)\n",
        "            return\n",
        "        else:\n",
        "            boardIndex = allBoards.index(symmetricBoard)\n",
        "            chosenMoveIndex = pick_move(boardIndex)\n",
        "            moveToDo = all_moves_descriptive[boardIndex][chosenMoveIndex]\n",
        "            moves_in_game.append(( boardIndex, chosenMoveIndex ))\n",
        "            simple_move_piece(1, sym(moveToDo[0]) , sym(moveToDo[1]))\n",
        "    else:\n",
        "        boardIndex = allBoards.index(gameBoard)\n",
        "        chosenMoveIndex = pick_move(boardIndex)\n",
        "        moveToDo = all_moves_descriptive[boardIndex][chosenMoveIndex]\n",
        "        moves_in_game.append(( boardIndex, chosenMoveIndex ))\n",
        "        simple_move_piece(1, moveToDo[0], moveToDo[1])\n",
        "\n",
        "    print (\"the machine's move:\")\n",
        "    print_board()\n",
        "    if game_over() == 1 or can_move(2) == 0:\n",
        "        print (\"the machine won\")\n",
        "    else:\n",
        "        print (\"your turn, human\")\n",
        "\n",
        "def reinforce(): # for now we will only learn from losses\n",
        "    for moveTuple in moves_in_game:\n",
        "        all_moves_list[ moveTuple[0] ][ moveTuple[1] ] -= 1 \n"
      ],
      "metadata": {
        "id": "XaxPDi9WIDRv"
      },
      "execution_count": 82,
      "outputs": []
    },
    {
      "cell_type": "code",
      "source": [
        "playerPossibleMoves = []\n",
        "def player_moves():\n",
        "    playerPossibleMoves.clear()\n",
        "    for i, ele in enumerate(gameBoard[3:]):\n",
        "        if ele == 2:\n",
        "            if gameBoard[i+3 - 3] == 0:          # forward\n",
        "                playerPossibleMoves.append((i+3, i))\n",
        "            if ((i+3)%3)%2 == 0:                    # side piece\n",
        "                if ((i+3)%3) == 0:                  # left edge\n",
        "                    if gameBoard[i+3 - 2] == 1:   # 3 to 1, 6 to 4\n",
        "                        playerPossibleMoves.append((i+3, i+1))\n",
        "                else:                           # right edge\n",
        "                    if gameBoard[i+3 - 4] == 1:\n",
        "                        playerPossibleMoves.append((i+3, i-1))\n",
        "            else:                               # middle piece\n",
        "                if gameBoard[i+3 - 2] == 1:       # eat left\n",
        "                    playerPossibleMoves.append((i+3, i+1))\n",
        "                if gameBoard[i+3 - 4] == 1:       # eat right\n",
        "                    playerPossibleMoves.append((i+3, i-1))"
      ],
      "metadata": {
        "id": "iVq_bKe2AdOi"
      },
      "execution_count": 110,
      "outputs": []
    },
    {
      "cell_type": "markdown",
      "source": [
        "### Reset the learning"
      ],
      "metadata": {
        "id": "TYC0mhn5Akyu"
      }
    },
    {
      "cell_type": "code",
      "source": [
        "all_moves_list = []\n",
        "all_moves_descriptive = []\n",
        "\n",
        "moves_list()"
      ],
      "metadata": {
        "id": "6ac3lSL4Ai2H"
      },
      "execution_count": 171,
      "outputs": []
    },
    {
      "cell_type": "markdown",
      "source": [
        "# Time to play"
      ],
      "metadata": {
        "id": "lL_90jaAoln5"
      }
    },
    {
      "cell_type": "markdown",
      "source": [
        "### Reset the game here"
      ],
      "metadata": {
        "id": "DLx4B713AHR0"
      }
    },
    {
      "cell_type": "code",
      "source": [
        "moves_in_game = []\n",
        "gameBoard = [1,1,1,\n",
        "             0,0,0,\n",
        "             2,2,2]\n",
        "\n",
        "# run this cell to reset the game"
      ],
      "metadata": {
        "id": "hg3Wfz_sNy1t"
      },
      "execution_count": 205,
      "outputs": []
    },
    {
      "cell_type": "markdown",
      "source": [
        "### Choose your move here\n"
      ],
      "metadata": {
        "id": "gDTtYq-3BaDt"
      }
    },
    {
      "cell_type": "code",
      "source": [
        "# Choose your move using the form to the side, then run this cell \n",
        "# Positions are numbered like this:\n",
        "#           [0,1,2,\n",
        "#            3,4,5,\n",
        "#            6,7,8]\n",
        "# form info here: https://colab.research.google.com/notebooks/forms.ipynb#scrollTo=eFN7-fUKs-Bu\n",
        "\n",
        "#@markdown ### Starting position:\n",
        "startPosition =  6#@param {type:\"integer\"}\n",
        "#@markdown ### Ending position:\n",
        "endPosition = 3 #@param {type:\"integer\"}\n",
        "\n",
        "#@markdown\n",
        "\n",
        "#@markdown ### Run the cell after the values are set up\n",
        "\n",
        "\n",
        "simple_move_piece(2, startPosition, endPosition)\n",
        "\n",
        "do_move()"
      ],
      "metadata": {
        "colab": {
          "base_uri": "https://localhost:8080/"
        },
        "id": "gAQW_-K_LoRT",
        "outputId": "bc3aaed5-63fd-4a55-d20f-9696be73e693"
      },
      "execution_count": 192,
      "outputs": [
        {
          "output_type": "stream",
          "name": "stdout",
          "text": [
            "[0, 2, 0]\n",
            "[2, 0, 1]\n",
            "[0, 0, 0]\n",
            "\n",
            "you win, human\n"
          ]
        }
      ]
    },
    {
      "cell_type": "code",
      "source": [
        "print (all_moves_list)\n",
        "print (all_moves_descriptive)"
      ],
      "metadata": {
        "colab": {
          "base_uri": "https://localhost:8080/"
        },
        "id": "x-WZb072ChKk",
        "outputId": "4b82d82a-f528-44ee-8b2f-da65d53a0657"
      },
      "execution_count": 170,
      "outputs": [
        {
          "output_type": "stream",
          "name": "stdout",
          "text": [
            "[[0, -1, -1], [0, 1, 1], [1], [1, 1, 1, 1], [1, 1], [1, 1, 1], [1, 1], [1, 1], [1], [1, 1], [-1, 1], [1, 1], [1, 1, 1], [0, -1, 0, 0], [1, 1, 1, 1], [1, -1], [1, 1], [1, 1, 1], [1, 0]]\n",
            "[[(1, 4), (1, 3), (2, 5)], [(0, 4), (2, 5), (2, 4)], [(0, 4)], [(0, 4), (2, 5), (2, 4), (3, 6)], [(3, 6), (4, 7)], [(2, 5), (2, 4), (3, 6)], [(3, 6), (4, 7)], [(0, 4), (3, 6)], [(2, 5)], [(3, 6), (3, 7)], [(0, 4), (1, 3)], [(1, 3), (5, 8)], [(1, 4), (1, 3), (1, 5)], [(0, 3), (0, 4), (2, 5), (2, 4)], [(1, 3), (2, 5), (4, 7), (4, 8)], [(2, 5), (2, 4)], [(1, 5), (4, 7)], [(1, 5), (4, 7), (4, 6)], [(2, 5), (2, 4)]]\n"
          ]
        }
      ]
    },
    {
      "cell_type": "code",
      "source": [
        "from IPython.core.display import Pretty\n",
        "import ipywidgets as widgets\n",
        "from IPython.display import display, update_display\n",
        "from ipywidgets import Button, HBox, VBox\n",
        "\n",
        "output = widgets.Output()\n",
        "\n",
        "def on_button_clicked(b):\n",
        "    if b not in buttons:\n",
        "        print (\"that is illegal\")\n",
        "        return\n",
        "    output.clear_output()\n",
        "    print (b.description)\n",
        "    simple_move_piece(2, int(b.description[0]), int(b.description[-1]))\n",
        "    do_move()\n",
        "    player_moves()\n",
        "    buttons.clear()\n",
        "    for moveTuple in playerPossibleMoves:\n",
        "        buttons.append(Button(description=str(moveTuple[0]) + \" to \" + str(moveTuple[1])))\n",
        "    for butt in buttons:\n",
        "        butt.on_click(on_button_clicked)\n",
        "    #print (display_ID)\n",
        "    update_display(HBox(buttons), display_id=display_ID)\n",
        "    output.clear_output(wait=True)\n",
        "        \n",
        "\n",
        "def start_button_func(b):\n",
        "    output.clear_output()\n",
        "    print (b.description)\n",
        "    #print (display_ID)\n",
        "    update_display(HBox(buttons), display_id=display_ID)\n",
        "    output.clear_output(wait=True)\n",
        "\n",
        "player_moves()\n",
        "buttons = [Button(description=str(moveTuple[0]) + \" to \" + str(moveTuple[1])) for moveTuple in playerPossibleMoves]\n",
        "for butt in buttons:\n",
        "    butt.on_click(on_button_clicked)\n",
        "\n",
        "startButton = Button(description=\"Start the game\")\n",
        "startButton.on_click(start_button_func)\n",
        "\n",
        "display_ID = display(startButton, display_id=True)\n",
        "\n",
        "#update_display(HBox(buttons), display_id=display_ID)\n",
        "#output.clear_output(wait=True)\n",
        "\n"
      ],
      "metadata": {
        "colab": {
          "base_uri": "https://localhost:8080/",
          "height": 613,
          "referenced_widgets": [
            "fd1f069ea5e44955909dafd8e33cbd5d",
            "c5ff95bda8ab47fd88e45b3361b6ecbe",
            "dbdb6680110f4aa09189cc6a08578964",
            "b61d93848f1d4d8ca656ca4c50a2c88c",
            "4696146670a840879a5c22e840a49295",
            "258da838177947959dd8ea9c6688248c",
            "59d97b562024421d908e0ed7357e576c",
            "72f24654b0c94a1a8a19520a3dfa5e95",
            "33cea2bcbca54af99c63b275efcc7ab2",
            "2ff37b5363aa4e94b6e59ca41fdefff5",
            "75333babf7c44066b8864cfa020c5ab9",
            "71a89629909a4501a7d89fc6f2489b0d",
            "e16156f28ebb40cdb6107729f260f215",
            "8fdc53183ed0444aa2f969fe75629964",
            "58a46717aa554efc9dbccc636c21a1b2",
            "4685b8a8fd234661bda232ffcea9ea55",
            "b84d35b29d4445bbb6dfe180f05c9992",
            "ec41c906539d4940a2844e9c79add98a",
            "8cf10e0f453c423fa0d0f40d87187f36",
            "04a43e50f4b8487398095a839054541a",
            "e6640dee59f24b7caf4f0e626662859c",
            "f985d2beb86549bfaa13f58fd0f0ddea",
            "a957025eb03946588fb4afc089ad4a2c",
            "a088791612d447299297b2407298c4c9",
            "e1b9ec038eab4b1ca34cef950e2d610a",
            "56a2dd5673024e2699984f380f022d73",
            "d3a2e954ff7c40f3a2979d2b3ee927b5",
            "8122204f1bea468f9418492e73993db9",
            "0dc907206a144fcea5b05da3ebd5baec",
            "6863e5b8e4d74711a1abe089f54e4a8f",
            "ead81eddb6d343a2982f6b34692f3315",
            "7118c56aaaf3480386f66580b61885e7"
          ]
        },
        "id": "lux7NdSHAqEc",
        "outputId": "73b9b140-06b0-44ee-e4a4-ff21499bf6fb"
      },
      "execution_count": 204,
      "outputs": [
        {
          "output_type": "display_data",
          "data": {
            "application/vnd.jupyter.widget-view+json": {
              "model_id": "fd1f069ea5e44955909dafd8e33cbd5d",
              "version_minor": 0,
              "version_major": 2
            },
            "text/plain": [
              "Button(description='Start the game', style=ButtonStyle())"
            ]
          },
          "metadata": {}
        },
        {
          "output_type": "stream",
          "name": "stdout",
          "text": [
            "Start the game\n"
          ]
        },
        {
          "output_type": "display_data",
          "data": {
            "application/vnd.jupyter.widget-view+json": {
              "model_id": "b61d93848f1d4d8ca656ca4c50a2c88c",
              "version_minor": 0,
              "version_major": 2
            },
            "text/plain": [
              "HBox(children=(Button(description='6 to 3', style=ButtonStyle()), Button(description='7 to 4', style=ButtonSty…"
            ]
          },
          "metadata": {}
        },
        {
          "output_type": "stream",
          "name": "stdout",
          "text": [
            "7 to 4\n",
            "your move:\n",
            "[1, 1, 1]\n",
            "[0, 2, 0]\n",
            "[2, 0, 2]\n",
            "\n",
            "the machine's move:\n",
            "[0, 1, 1]\n",
            "[0, 1, 0]\n",
            "[2, 0, 2]\n",
            "\n",
            "your turn, human\n"
          ]
        },
        {
          "output_type": "display_data",
          "data": {
            "application/vnd.jupyter.widget-view+json": {
              "model_id": "58a46717aa554efc9dbccc636c21a1b2",
              "version_minor": 0,
              "version_major": 2
            },
            "text/plain": [
              "HBox(children=(Button(description='6 to 3', style=ButtonStyle()), Button(description='6 to 4', style=ButtonSty…"
            ]
          },
          "metadata": {}
        },
        {
          "output_type": "stream",
          "name": "stdout",
          "text": [
            "6 to 4\n",
            "your move:\n",
            "[0, 1, 1]\n",
            "[0, 2, 0]\n",
            "[0, 0, 2]\n",
            "\n",
            "the machine's move:\n",
            "[0, 1, 0]\n",
            "[0, 2, 1]\n",
            "[0, 0, 2]\n",
            "\n",
            "the machine won\n"
          ]
        },
        {
          "output_type": "display_data",
          "data": {
            "application/vnd.jupyter.widget-view+json": {
              "model_id": "0dc907206a144fcea5b05da3ebd5baec",
              "version_minor": 0,
              "version_major": 2
            },
            "text/plain": [
              "HBox()"
            ]
          },
          "metadata": {}
        },
        {
          "output_type": "stream",
          "name": "stdout",
          "text": [
            "that is illegal\n",
            "that is illegal\n",
            "Start the game\n"
          ]
        },
        {
          "output_type": "display_data",
          "data": {
            "application/vnd.jupyter.widget-view+json": {
              "model_id": "ead81eddb6d343a2982f6b34692f3315",
              "version_minor": 0,
              "version_major": 2
            },
            "text/plain": [
              "HBox()"
            ]
          },
          "metadata": {}
        }
      ]
    },
    {
      "cell_type": "markdown",
      "source": [
        "Tasks:\n",
        "color player's pawns and corresponding buttons\n",
        "\n",
        "make buttons do moves"
      ],
      "metadata": {
        "id": "RjsQj4vDCdyW"
      }
    },
    {
      "cell_type": "code",
      "source": [
        "playerPossibleMoves = []\n",
        "player_moves()\n",
        "buttons = [Button(description=str(moveTuple[0]) + \" to \" + str(moveTuple[1])) for moveTuple in playerPossibleMoves]\n",
        "for butt in buttons:\n",
        "    butt.on_click(on_button_clicked)\n",
        "display(HBox(buttons), output)"
      ],
      "metadata": {
        "id": "Ka1apDt76GZB"
      },
      "execution_count": null,
      "outputs": []
    },
    {
      "cell_type": "code",
      "source": [
        "import ipywidgets as widgets\n",
        "from IPython.display import display\n",
        "#button = widgets.Button(description=\"Click Me!\")\n",
        "#b2 = widgets.Button(description=\"i am 2nd\")\n",
        "\n",
        "\n",
        "#display(button, b2, output)\n",
        "\n",
        "#def on_button_clicked(b):\n",
        "#    with output:\n",
        "#        print(\"Button clicked.\")\n",
        "\n",
        "#button.on_click(on_button_clicked)\n",
        "#b2.on_click(on_button_clicked_2)\n",
        "\n",
        "from ipywidgets import Button, HBox, VBox       # https://ipywidgets.readthedocs.io/en/latest/examples/Widget%20Styling.html\n",
        "\n",
        "words = ['correct', 'horse', 'battery', 'staple']\n",
        "items = [Button(description=w) for w in words]\n",
        "left_box = VBox([items[0], items[1]])\n",
        "right_box = VBox([items[2], items[3]])\n",
        "HBox([left_box, right_box])\n"
      ],
      "metadata": {
        "id": "dWx0X1AQ7R6t"
      },
      "execution_count": null,
      "outputs": []
    }
  ]
}