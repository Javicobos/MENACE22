{
  "nbformat": 4,
  "nbformat_minor": 0,
  "metadata": {
    "colab": {
      "name": "Hexapawn.ipynb",
      "provenance": [],
      "collapsed_sections": [
        "7fimT_Ttv92g",
        "AHSYm0i_oezg"
      ],
      "toc_visible": true,
      "authorship_tag": "ABX9TyMRAmpWBcguY/9A2Kc62Lmn",
      "include_colab_link": true
    },
    "kernelspec": {
      "name": "python3",
      "display_name": "Python 3"
    },
    "language_info": {
      "name": "python"
    }
  },
  "cells": [
    {
      "cell_type": "markdown",
      "metadata": {
        "id": "view-in-github",
        "colab_type": "text"
      },
      "source": [
        "<a href=\"https://colab.research.google.com/github/Javicobos/MENACE22/blob/main/Hexapawn.ipynb\" target=\"_parent\"><img src=\"https://colab.research.google.com/assets/colab-badge.svg\" alt=\"Open In Colab\"/></a>"
      ]
    },
    {
      "cell_type": "markdown",
      "source": [
        "# Set up"
      ],
      "metadata": {
        "id": "7fimT_Ttv92g"
      }
    },
    {
      "cell_type": "markdown",
      "source": [
        "## Setting up all possible Hexapawn boards"
      ],
      "metadata": {
        "id": "d8-F9eMYn-gE"
      }
    },
    {
      "cell_type": "markdown",
      "source": [
        "Based on [this](http://cs.williams.edu/~freund/cs136-073/GardnerHexapawn.pdf)."
      ],
      "metadata": {
        "id": "QIC5V-dm0RI6"
      }
    },
    {
      "cell_type": "code",
      "execution_count": 2,
      "metadata": {
        "id": "wbB6rX7U0HGV"
      },
      "outputs": [],
      "source": [
        "# Let's start with a basic matrix (that will actually be a list)\n",
        "gameBoard = [1,1,1,\n",
        "             0,0,0,\n",
        "             2,2,2]\n",
        "# Positions are numbered like this:\n",
        "#           [0,1,2,\n",
        "#            3,4,5,\n",
        "#            6,7,8]"
      ]
    },
    {
      "cell_type": "code",
      "source": [
        "def can_move(piece):\n",
        "    if piece == 1:\n",
        "        for i, ele in enumerate(gameBoard[:6]):\n",
        "            if ele == 1:\n",
        "                if gameBoard[i + 3] == 0:\n",
        "                    return 1\n",
        "                if (i%3)%2 == 0:                    # side piece\n",
        "                    if (i%3) == 0:                  # left edge \n",
        "                        if gameBoard[i + 4] == 2:\n",
        "                            return 1\n",
        "                    else:\n",
        "                        if gameBoard[i + 2] == 2:\n",
        "                            return 1\n",
        "                else:                               # middle piece\n",
        "                    if gameBoard[i + 2] == 2:       # eat left\n",
        "                        return 1\n",
        "                    if gameBoard[i + 4] == 2:       # eat right\n",
        "                        return 1\n",
        "    else:\n",
        "        for i, ele in enumerate(gameBoard[3:]):\n",
        "            if ele == 2:\n",
        "                if gameBoard[i+3 - 3]  == 0:          # forward\n",
        "                    return 2\n",
        "                if ((i+3)%3)%2 == 0:                    # side piece\n",
        "                    if ((i+3)%3) == 0:                  # left edge\n",
        "                        if gameBoard[i+3 - 2] == 1:   # 3 to 1, 6 to 4\n",
        "                            return 2\n",
        "                    else:                           # right edge\n",
        "                        if gameBoard[i+3 - 4] == 1:\n",
        "                            return 2\n",
        "                else:                               # middle piece\n",
        "                    if gameBoard[i+3 - 2] == 1:       # eat left\n",
        "                        return 2\n",
        "                    if gameBoard[i+3 - 4] == 1:       # eat right\n",
        "                        return 2\n",
        "    return 0\n",
        "\n",
        "def game_over():\n",
        "    if 1 in gameBoard[6:]:\n",
        "        return 1                        # 1 reached the end of the board\n",
        "    if 2 in gameBoard[:3]:\n",
        "        return 2                        # 2 reached the end of the board\n",
        "    return 0                            # game is not over"
      ],
      "metadata": {
        "id": "qjjEGm4i0gxS"
      },
      "execution_count": 3,
      "outputs": []
    },
    {
      "cell_type": "code",
      "source": [
        "# Let's make a file with the \"boxes\"\n",
        "# Copying the boxes would take a tenth of the time\n",
        "# But I wanted to practice so let's program making them\n",
        "outputFile = open('Hexapawn_Boxes.txt', 'w')\n",
        "allBoards = []\n",
        "\n",
        "def sym(k):\n",
        "    return k - 2*(k%3) + 2\n",
        "    # map { (0,2), (1,1), (2,0)\n",
        "    #       (3,5), (4,4), (5,3)\n",
        "    #       (6,8), (7,7), (8,6) }\n",
        "\n",
        "def after_move(piece):\n",
        "    #if gameBoard == [0,0,1,2,2,2,0,0,0]:\n",
        "    #    print (\"it is here\")\n",
        "    #if gameBoard == [1,0,0,2,2,2,0,0,0]:\n",
        "    #    print (\"it is here sym after\")\n",
        "    if gameBoard not in allBoards:\n",
        "        for k, ele in enumerate(gameBoard): #super inefficient idc\n",
        "            symmetricBoard[ sym(k) ] = ele\n",
        "            #if k%3 == 0:\n",
        "            #    symmetricBoard[k + 2] = ele\n",
        "            #elif k%3 == 1:\n",
        "            #    symmetricBoard[k] = ele\n",
        "            #elif k%3 == 2:\n",
        "            #    symmetricBoard[k-2] = ele\n",
        "        if symmetricBoard not in allBoards:\n",
        "            # if symmetric is not here\n",
        "            #print (\"we append a new board\")\n",
        "            #print (gameBoard)\n",
        "            #print (allBoards)\n",
        "            if piece == 1:\n",
        "                two_moves()\n",
        "            else:\n",
        "                allBoards.append(gameBoard[:])\n",
        "                one_moves()\n",
        "    #else:\n",
        "        #print (game_over_result)\n",
        "        #print (\"Game Over\")\n",
        "        #print (gameBoard)\n",
        "def move_piece(piece, start, end):  # underPiece is to undo eating\n",
        "    underPiece = gameBoard[end]\n",
        "    gameBoard[start] = 0\n",
        "    gameBoard[end] = piece\n",
        "\n",
        "    if game_over() == 0 and can_move(-piece + 3) != 0:  # -piece + 3 sends 2 to 1 and 1 to 2\n",
        "        after_move(piece)\n",
        "\n",
        "    gameBoard[end] = underPiece\n",
        "    gameBoard[start] = piece\n",
        "\n",
        "def two_moves():\n",
        "    for i, ele in enumerate(gameBoard[3:]):\n",
        "        if ele == 2:\n",
        "            if gameBoard[i+3 - 3]  == 0:          # forward\n",
        "                move_piece(2, i+3 , i+3 -3)\n",
        "            if ((i+3)%3)%2 == 0:                    # side piece\n",
        "                if ((i+3)%3) == 0:                  # left edge\n",
        "                    if gameBoard[i+3 - 2] == 1:   # 3 to 1, 6 to 4\n",
        "                        move_piece(2, i+3, i+3-2)\n",
        "                else:                           # right edge\n",
        "                    if gameBoard[i+3 - 4] == 1:\n",
        "                        move_piece(2, i+3, i+3-4)\n",
        "            else:                               # middle piece\n",
        "                if gameBoard[i+3 - 2] == 1:       # eat left\n",
        "                    move_piece(2, i+3, i+3-2)\n",
        "                if gameBoard[i+3 - 4] == 1:       # eat right\n",
        "                    move_piece(2, i+3, i+3-4)\n",
        "def one_moves():\n",
        "    for i, ele in enumerate(gameBoard[:6]):\n",
        "        if ele == 1:\n",
        "            if gameBoard[i + 3] == 0:\n",
        "                move_piece(1, i, i+3)\n",
        "            if (i%3)%2 == 0:                    # side piece\n",
        "                if (i%3) == 0:                  # left edge \n",
        "                    if gameBoard[i + 4] == 2:\n",
        "                        move_piece(1, i, i + 4)\n",
        "                else:\n",
        "                    if gameBoard[i + 2] == 2:\n",
        "                        move_piece(1, i, i + 2)\n",
        "            else:                               # middle piece\n",
        "                if gameBoard[i + 2] == 2:       # eat left\n",
        "                    move_piece(1, i, i+2)\n",
        "                if gameBoard[i + 4] == 2:       # eat right\n",
        "                    move_piece(1, i, i+4)\n",
        "\n",
        "#           [0,1,2,\n",
        "#            3,4,5,\n",
        "#            6,7,8]\n",
        "# from 3, top diagonal is 1\n",
        "# from 4, top diagonals are 0 and 2\n",
        "# from 5, top diagonal is 1\n",
        "# from 6, top diagonal is 4\n",
        "# from 7, top diagonals are 3 and 5\n",
        "# from 8, top diagonal is 4\n",
        "\n",
        "    \n"
      ],
      "metadata": {
        "id": "MvklfF-A2_Av"
      },
      "execution_count": 4,
      "outputs": []
    },
    {
      "cell_type": "code",
      "source": [
        "allBoards = []\n",
        "gameBoard = [1,1,1,\n",
        "             0,0,0,\n",
        "             2,2,2]\n",
        "symmetricBoard =    [1,1,1,\n",
        "                    0,0,0,\n",
        "                    2,2,2]\n",
        "two_moves()\n",
        "print (allBoards)\n",
        "\n",
        "outputFile = open('Hexapawn_Boxes.txt', 'w')\n",
        "for num, i in enumerate(allBoards):\n",
        "    outputFile.write(str(i[:3]) + '\\n')\n",
        "    outputFile.write(str(i[3:6]) + '\\n')\n",
        "    outputFile.write(str(i[6:]) + '\\n')\n",
        "    outputFile.write(\"that was the \" + str(num) + \" board\" + '\\n' + '\\n')"
      ],
      "metadata": {
        "id": "jHiw4-TOF2eK",
        "colab": {
          "base_uri": "https://localhost:8080/"
        },
        "outputId": "31a38c13-34f5-4bd3-bafa-bdc370375cd8"
      },
      "execution_count": 5,
      "outputs": [
        {
          "output_type": "stream",
          "name": "stdout",
          "text": [
            "[[1, 1, 1, 2, 0, 0, 0, 2, 2], [1, 0, 1, 2, 2, 0, 0, 2, 0], [1, 0, 0, 2, 2, 2, 0, 0, 0], [1, 0, 1, 1, 2, 0, 0, 0, 2], [0, 0, 1, 1, 1, 2, 0, 0, 0], [0, 0, 1, 1, 2, 0, 0, 0, 0], [1, 0, 0, 1, 1, 2, 0, 0, 0], [1, 0, 0, 1, 2, 0, 0, 0, 0], [1, 0, 1, 2, 0, 0, 0, 0, 2], [1, 0, 1, 1, 0, 2, 0, 2, 0], [1, 1, 0, 2, 2, 1, 0, 0, 2], [0, 1, 0, 2, 2, 1, 0, 0, 0], [1, 1, 0, 2, 0, 2, 0, 0, 2], [1, 1, 1, 0, 2, 0, 2, 0, 2], [0, 1, 1, 2, 1, 0, 0, 0, 2], [0, 1, 1, 0, 2, 0, 0, 0, 2], [0, 1, 0, 0, 1, 2, 0, 0, 0], [0, 1, 1, 0, 1, 2, 2, 0, 0], [0, 1, 1, 0, 2, 0, 2, 0, 0]]\n"
          ]
        }
      ]
    },
    {
      "cell_type": "markdown",
      "source": [
        "## Setting up all possible moves"
      ],
      "metadata": {
        "id": "IV75rvoIoRu4"
      }
    },
    {
      "cell_type": "code",
      "source": [
        "all_moves_list = []\n",
        "all_moves_descriptive = []\n",
        "def moves_list():\n",
        "    for e, board in enumerate(allBoards):\n",
        "        all_moves_list.append([])\n",
        "        all_moves_descriptive.append([])\n",
        "        for i, ele in enumerate(board[:6]):\n",
        "            if ele == 1:\n",
        "                if board[i + 3] == 0:\n",
        "                    all_moves_list[-1].append(1)\n",
        "                    all_moves_descriptive[-1].append((i, i+3))\n",
        "                if (i%3)%2 == 0:                    # side piece\n",
        "                    if (i%3) == 0:                  # left edge \n",
        "                        if board[i + 4] == 2:\n",
        "                            all_moves_list[-1].append(1)\n",
        "                            all_moves_descriptive[-1].append((i, i+4))\n",
        "                    else:\n",
        "                        if board[i + 2] == 2:\n",
        "                            all_moves_list[-1].append(1)\n",
        "                            all_moves_descriptive[-1].append((i, i+2))\n",
        "                else:                               # middle piece\n",
        "                    if board[i + 2] == 2:       # eat left\n",
        "                        all_moves_list[-1].append(1)\n",
        "                        all_moves_descriptive[-1].append((i, i+2))\n",
        "                    if board[i + 4] == 2:       # eat right\n",
        "                        all_moves_list[-1].append(1)\n",
        "                        all_moves_descriptive[-1].append((i, i+4))\n",
        "\n",
        "moves_list()          \n",
        "print (all_moves_list)\n",
        "print (all_moves_descriptive)"
      ],
      "metadata": {
        "colab": {
          "base_uri": "https://localhost:8080/"
        },
        "id": "kfhdR9FJfARa",
        "outputId": "a3239b09-b266-4387-e73c-f94b491eedda"
      },
      "execution_count": 6,
      "outputs": [
        {
          "output_type": "stream",
          "name": "stdout",
          "text": [
            "[[1, 1, 1], [1, 1, 1], [1], [1, 1, 1, 1], [1, 1], [1, 1, 1], [1, 1], [1, 1], [1], [1, 1], [1, 1], [1, 1], [1, 1, 1], [1, 1, 1, 1], [1, 1, 1, 1], [1, 1], [1, 1], [1, 1, 1], [1, 1]]\n",
            "[[(1, 4), (1, 3), (2, 5)], [(0, 4), (2, 5), (2, 4)], [(0, 4)], [(0, 4), (2, 5), (2, 4), (3, 6)], [(3, 6), (4, 7)], [(2, 5), (2, 4), (3, 6)], [(3, 6), (4, 7)], [(0, 4), (3, 6)], [(2, 5)], [(3, 6), (3, 7)], [(0, 4), (1, 3)], [(1, 3), (5, 8)], [(1, 4), (1, 3), (1, 5)], [(0, 3), (0, 4), (2, 5), (2, 4)], [(1, 3), (2, 5), (4, 7), (4, 8)], [(2, 5), (2, 4)], [(1, 5), (4, 7)], [(1, 5), (4, 7), (4, 6)], [(2, 5), (2, 4)]]\n"
          ]
        }
      ]
    },
    {
      "cell_type": "markdown",
      "source": [
        "# Picking the machine's moves"
      ],
      "metadata": {
        "id": "AHSYm0i_oezg"
      }
    },
    {
      "cell_type": "code",
      "source": [
        "import random"
      ],
      "metadata": {
        "id": "Y2MsdDxRQ-tD"
      },
      "execution_count": 7,
      "outputs": []
    },
    {
      "cell_type": "code",
      "source": [
        "def pick_move(boardIndex):\n",
        "    currentMovesList = all_moves_list[boardIndex]\n",
        "    #currentMovesDescriptor = all_moves_descriptive[boardIndex]\n",
        "    totalBeads = 0\n",
        "    for i in currentMovesList:\n",
        "        totalBeads += i\n",
        "    if totalBeads == 0:\n",
        "        return -1\n",
        "    chosenMove = random.randint(1, totalBeads)\n",
        "    usedBeads = 0\n",
        "    for j, ele in enumerate(currentMovesList):\n",
        "        usedBeads += ele\n",
        "        if usedBeads >= chosenMove:\n",
        "            return j\n",
        "\n",
        "print (all_moves_descriptive[3][pick_move(3)])"
      ],
      "metadata": {
        "id": "8OXN4gFULFZr",
        "colab": {
          "base_uri": "https://localhost:8080/"
        },
        "outputId": "9cbc8b8b-2ca2-44d7-acd4-0981b21e364a"
      },
      "execution_count": 8,
      "outputs": [
        {
          "output_type": "stream",
          "name": "stdout",
          "text": [
            "(3, 6)\n"
          ]
        }
      ]
    },
    {
      "cell_type": "code",
      "source": [
        "gameBoard = [1,1,1,\n",
        "             0,0,0,\n",
        "             2,2,2]\n",
        "\n",
        "def print_board():\n",
        "    print (gameBoard[:3])\n",
        "    print (gameBoard[3:6])\n",
        "    print (gameBoard[6:])\n",
        "    print ()\n",
        "\n",
        "def simple_move_piece(piece, start, end):  \n",
        "    gameBoard[start] = 0\n",
        "    gameBoard[end] = piece\n",
        "\n",
        "#print (all_moves_descriptive[allBoards.index(gameBoard)][pick_move(allBoards.index(gameBoard))])\n",
        "\n",
        "moves_in_game = []\n",
        "\n",
        "def do_move():                          # need to save our moves and reinforce after w/l\n",
        "    #print (game_over())\n",
        "    if game_over() == 2 or can_move(1) == 0:\n",
        "        print_board()\n",
        "        print (\"you win, human\")\n",
        "        reinforce()\n",
        "        return\n",
        "    print (\"your move:\")\n",
        "    print_board()\n",
        "    if gameBoard not in allBoards:      \n",
        "        for k, ele in enumerate(gameBoard): \n",
        "            symmetricBoard[k - 2*(k%3) + 2] = ele\n",
        "        if symmetricBoard not in allBoards:\n",
        "            print (\"something went wrong\")\n",
        "            print (gameBoard)\n",
        "            print (symmetricBoard)\n",
        "            return\n",
        "        else:\n",
        "            boardIndex = allBoards.index(symmetricBoard)\n",
        "            chosenMoveIndex = pick_move(boardIndex)\n",
        "            moveToDo = all_moves_descriptive[boardIndex][chosenMoveIndex]\n",
        "            moves_in_game.append(( boardIndex, chosenMoveIndex ))\n",
        "            simple_move_piece(1, sym(moveToDo[0]) , sym(moveToDo[1]))\n",
        "    else:\n",
        "        boardIndex = allBoards.index(gameBoard)\n",
        "        chosenMoveIndex = pick_move(boardIndex)\n",
        "        moveToDo = all_moves_descriptive[boardIndex][chosenMoveIndex]\n",
        "        moves_in_game.append(( boardIndex, chosenMoveIndex ))\n",
        "        simple_move_piece(1, moveToDo[0], moveToDo[1])\n",
        "\n",
        "    print (\"the machine's move:\")\n",
        "    print_board()\n",
        "    if game_over() == 1 or can_move(2) == 0:\n",
        "        print (\"the machine won\")\n",
        "    else:\n",
        "        print (\"your turn, human\")\n",
        "\n",
        "def reinforce(): # for now we will only learn from losses\n",
        "    for moveTuple in moves_in_game:\n",
        "        all_moves_list[ moveTuple[0] ][ moveTuple[1] ] -= 1 \n"
      ],
      "metadata": {
        "id": "XaxPDi9WIDRv"
      },
      "execution_count": 16,
      "outputs": []
    },
    {
      "cell_type": "markdown",
      "source": [
        "### Reset the learning"
      ],
      "metadata": {
        "id": "TYC0mhn5Akyu"
      }
    },
    {
      "cell_type": "code",
      "source": [
        "all_moves_list = []\n",
        "all_moves_descriptive = []\n",
        "\n",
        "moves_list()"
      ],
      "metadata": {
        "id": "6ac3lSL4Ai2H"
      },
      "execution_count": 10,
      "outputs": []
    },
    {
      "cell_type": "markdown",
      "source": [
        "# Time to play"
      ],
      "metadata": {
        "id": "lL_90jaAoln5"
      }
    },
    {
      "cell_type": "markdown",
      "source": [
        "### Reset the game here"
      ],
      "metadata": {
        "id": "DLx4B713AHR0"
      }
    },
    {
      "cell_type": "code",
      "source": [
        "moves_in_game = []\n",
        "gameBoard = [1,1,1,\n",
        "             0,0,0,\n",
        "             2,2,2]\n",
        "\n",
        "# run this cell to reset the game"
      ],
      "metadata": {
        "id": "hg3Wfz_sNy1t"
      },
      "execution_count": 37,
      "outputs": []
    },
    {
      "cell_type": "markdown",
      "source": [
        "### Choose your move here\n"
      ],
      "metadata": {
        "id": "gDTtYq-3BaDt"
      }
    },
    {
      "cell_type": "code",
      "source": [
        "# Choose your move using the form to the side, then run this cell \n",
        "# Positions are numbered like this:\n",
        "#           [0,1,2,\n",
        "#            3,4,5,\n",
        "#            6,7,8]\n",
        "# form info here: https://colab.research.google.com/notebooks/forms.ipynb#scrollTo=eFN7-fUKs-Bu\n",
        "\n",
        "#@markdown ### Starting position:\n",
        "startPosition =  5#@param {type:\"integer\"}\n",
        "#@markdown ### Ending position:\n",
        "endPosition = 2 #@param {type:\"integer\"}\n",
        "\n",
        "#@markdown\n",
        "\n",
        "#@markdown ### Run the cell after the values are set up\n",
        "\n",
        "\n",
        "simple_move_piece(2, startPosition, endPosition)\n",
        "\n",
        "do_move()"
      ],
      "metadata": {
        "colab": {
          "base_uri": "https://localhost:8080/"
        },
        "id": "gAQW_-K_LoRT",
        "outputId": "3e4cc9c9-cde7-487c-fcc7-8f187b1e8ef0"
      },
      "execution_count": 40,
      "outputs": [
        {
          "output_type": "stream",
          "name": "stdout",
          "text": [
            "[1, 0, 2]\n",
            "[0, 1, 0]\n",
            "[0, 2, 0]\n",
            "\n",
            "you win, human\n"
          ]
        }
      ]
    },
    {
      "cell_type": "code",
      "source": [
        "print (all_moves_list)\n",
        "print (all_moves_descriptive)"
      ],
      "metadata": {
        "colab": {
          "base_uri": "https://localhost:8080/"
        },
        "id": "x-WZb072ChKk",
        "outputId": "a282a754-a2c2-40ec-cdff-4ab861aa38a9"
      },
      "execution_count": 42,
      "outputs": [
        {
          "output_type": "stream",
          "name": "stdout",
          "text": [
            "[[0, 1, 0], [0, 1, 1], [1], [1, 1, 1, 1], [1, 1], [1, 1, 1], [1, 1], [1, 1], [1], [1, 1], [1, 1], [0, 1], [1, 1, 1], [0, 0, 1, 0], [1, 1, 1, 1], [1, 0], [1, 1], [1, 1, 1], [0, 1]]\n",
            "[[(1, 4), (1, 3), (2, 5)], [(0, 4), (2, 5), (2, 4)], [(0, 4)], [(0, 4), (2, 5), (2, 4), (3, 6)], [(3, 6), (4, 7)], [(2, 5), (2, 4), (3, 6)], [(3, 6), (4, 7)], [(0, 4), (3, 6)], [(2, 5)], [(3, 6), (3, 7)], [(0, 4), (1, 3)], [(1, 3), (5, 8)], [(1, 4), (1, 3), (1, 5)], [(0, 3), (0, 4), (2, 5), (2, 4)], [(1, 3), (2, 5), (4, 7), (4, 8)], [(2, 5), (2, 4)], [(1, 5), (4, 7)], [(1, 5), (4, 7), (4, 6)], [(2, 5), (2, 4)]]\n"
          ]
        }
      ]
    }
  ]
}