{
  "nbformat": 4,
  "nbformat_minor": 0,
  "metadata": {
    "colab": {
      "name": "Hexapawn.ipynb",
      "provenance": [],
      "collapsed_sections": [],
      "authorship_tag": "ABX9TyPmUV8xS4hO/BIXPQwnguEs",
      "include_colab_link": true
    },
    "kernelspec": {
      "name": "python3",
      "display_name": "Python 3"
    },
    "language_info": {
      "name": "python"
    }
  },
  "cells": [
    {
      "cell_type": "markdown",
      "metadata": {
        "id": "view-in-github",
        "colab_type": "text"
      },
      "source": [
        "<a href=\"https://colab.research.google.com/github/Javicobos/MENACE22/blob/main/Hexapawn.ipynb\" target=\"_parent\"><img src=\"https://colab.research.google.com/assets/colab-badge.svg\" alt=\"Open In Colab\"/></a>"
      ]
    },
    {
      "cell_type": "markdown",
      "source": [
        "Based on [this](http://cs.williams.edu/~freund/cs136-073/GardnerHexapawn.pdf)."
      ],
      "metadata": {
        "id": "QIC5V-dm0RI6"
      }
    },
    {
      "cell_type": "code",
      "execution_count": 1,
      "metadata": {
        "id": "wbB6rX7U0HGV"
      },
      "outputs": [],
      "source": [
        "# Let's start with a basic matrix (that will actually be a list)\n",
        "gameBoard = [1,1,1,\n",
        "             0,0,0,\n",
        "             2,2,2]\n",
        "# Positions are numbered like this:\n",
        "#           [0,1,2,\n",
        "#            3,4,5,\n",
        "#            6,7,8]"
      ]
    },
    {
      "cell_type": "code",
      "source": [
        "def game_over():\n",
        "    if 1 in gameBoard[6:]:\n",
        "        return 1                        # 1 reached the end of the board\n",
        "    if 2 in gameBoard[:3]:\n",
        "        return 2                        # 2 reached the end of the board\n",
        "    for i, ele1 in enumerate(gameBoard[:6]):\n",
        "        if ele1 == 1:\n",
        "            if gameBoard[i + 3] != 2:\n",
        "                break                   # break if 1 can move\n",
        "        return 2                        # 2 wins otherwise\n",
        "    for j, ele2 in enumerate(gameBoard[3:]):    \n",
        "        if ele2 == 2:\n",
        "            if gameBoard[j - 3] != 1:\n",
        "                break                   # break if 2 can move\n",
        "        return 1                        # 1 wins otherwise\n",
        "\n",
        "    return 0                            # game is not over"
      ],
      "metadata": {
        "id": "qjjEGm4i0gxS"
      },
      "execution_count": 6,
      "outputs": []
    },
    {
      "cell_type": "code",
      "source": [
        "# Let's make a file with the \"boxes\"\n",
        "# Copying the boxes would take a tenth of the time\n",
        "# But I wanted to practice so let's program making them\n",
        "outputFile = open('Hexapawn_Boxes.txt', 'w')\n",
        "allBoards = []\n",
        "def after_move(piece):\n",
        "    game_over_result = game_over()\n",
        "    if game_over_result == 0:\n",
        "        if gameBoard not in allBoards:\n",
        "            # if symmetric is not here\n",
        "            allBoards.append(gameBoard)\n",
        "            if piece == 1:\n",
        "                two_moves()\n",
        "            else:\n",
        "                one_moves()\n",
        "    else:\n",
        "        print (game_over_result)\n",
        "        print (\"Game Over\")\n",
        "        print (gameBoard)\n",
        "def move_piece(piece, start, end):  # underPiece is to undo eating\n",
        "    underPiece = gameBoard[end]\n",
        "    gameBoard[start] = 0\n",
        "    gameBoard[end] = piece\n",
        "    after_move(piece)\n",
        "    gameBoard[end] = underPiece\n",
        "    gameBoard[start] = piece\n",
        "def two_moves():\n",
        "    print (gameBoard)\n",
        "    for i, ele in enumerate(gameBoard[3:]):\n",
        "        if ele == 2:\n",
        "            if gameBoard[i - 3]  == 0:          # forward\n",
        "                move_piece(2, i, i-3)\n",
        "                #return ??\n",
        "            if (i%3)%2 == 0:                    # side piece\n",
        "                if (i%3) == 0:                  # left edge\n",
        "                    if gameBoard[i - 2] == 1:   # 3 to 1, 6 to 4\n",
        "                        move_piece(2, i, i-2)\n",
        "                else:                           # right edge\n",
        "                    if gameBoard[i - 4] == 1:\n",
        "                        move_piece(2, i, i-4)\n",
        "            else:                               # middle piece\n",
        "                if gameBoard[i - 2] == 1:       # eat left\n",
        "                    move_piece(2, i, i-2)\n",
        "                if gameBoard[i - 4] == 1:       # eat right\n",
        "                    move_piece(2, i, i-4)\n",
        "def one_moves():\n",
        "    print (gameBoard)\n",
        "    for i, ele in enumerate(gameBoard[:6]):\n",
        "        if ele == 1:\n",
        "            if gameBoard[i + 3] == 0:\n",
        "                move_piece(1, i, i+3)\n",
        "            if (i%3)%2 == 0:                    # side piece\n",
        "                if (i%3) == 0:                  # left edge \n",
        "                    if gameBoard[i + 4] == 2:\n",
        "                        move_piece(1, i, i + 4)\n",
        "                else:\n",
        "                    if gameBoard[i + 2] == 2:\n",
        "                        move_piece(1, i, i + 2)\n",
        "            else:                               # middle piece\n",
        "                if gameBoard[i + 2] == 2:       # eat left\n",
        "                    move_piece(1, i, i+2)\n",
        "                if gameBoard[i + 4] == 2:       # eat right\n",
        "                    move_piece(1, i, i+4)\n",
        "\n",
        "#           [0,1,2,\n",
        "#            3,4,5,\n",
        "#            6,7,8]\n",
        "# from 3, top diagonal is 1\n",
        "# from 4, top diagonals are 0 and 2\n",
        "# from 5, top diagonal is 1\n",
        "# from 6, top diagonal is 4\n",
        "# from 7, top diagonals are 3 and 5\n",
        "# from 8, top diagonal is 4\n",
        "\n",
        "    \n",
        "\n"
      ],
      "metadata": {
        "id": "MvklfF-A2_Av"
      },
      "execution_count": 26,
      "outputs": []
    },
    {
      "cell_type": "code",
      "source": [
        "gameBoard = [1,1,1,\n",
        "             0,0,0,\n",
        "             2,2,2]\n",
        "two_moves()\n",
        "print (allBoards)"
      ],
      "metadata": {
        "colab": {
          "base_uri": "https://localhost:8080/"
        },
        "id": "jHiw4-TOF2eK",
        "outputId": "03a279cd-78b8-4325-dcb5-ee82f016ed32"
      },
      "execution_count": 27,
      "outputs": [
        {
          "output_type": "stream",
          "name": "stdout",
          "text": [
            "[1, 1, 1, 0, 0, 0, 2, 2, 2]\n",
            "2\n",
            "Game Over\n",
            "[1, 2, 1, 0, 0, 0, 2, 2, 2]\n",
            "2\n",
            "Game Over\n",
            "[1, 1, 2, 2, 0, 0, 2, 2, 2]\n",
            "2\n",
            "Game Over\n",
            "[2, 1, 1, 2, 0, 0, 2, 2, 2]\n",
            "2\n",
            "Game Over\n",
            "[1, 2, 1, 2, 2, 0, 2, 2, 2]\n",
            "[]\n"
          ]
        }
      ]
    },
    {
      "cell_type": "code",
      "source": [
        "gameBoard = [1,1,1,\n",
        "             0,0,0,\n",
        "             2,2,2]\n",
        "\n",
        "print (gameBoard[6:])"
      ],
      "metadata": {
        "colab": {
          "base_uri": "https://localhost:8080/"
        },
        "id": "GOf6kkHtH3yP",
        "outputId": "b4af73c1-88b1-4d11-8650-48318a42ebb5"
      },
      "execution_count": 30,
      "outputs": [
        {
          "output_type": "stream",
          "name": "stdout",
          "text": [
            "[2, 2, 2]\n"
          ]
        }
      ]
    }
  ]
}