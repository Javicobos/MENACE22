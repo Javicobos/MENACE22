{
  "nbformat": 4,
  "nbformat_minor": 0,
  "metadata": {
    "colab": {
      "name": "Hexapawn.ipynb",
      "provenance": [],
      "collapsed_sections": [],
      "toc_visible": true,
      "authorship_tag": "ABX9TyMU4Yn7hFDGaMumpfpXpHZi",
      "include_colab_link": true
    },
    "kernelspec": {
      "name": "python3",
      "display_name": "Python 3"
    },
    "language_info": {
      "name": "python"
    },
    "widgets": {
      "application/vnd.jupyter.widget-state+json": {
        "3526bebc73c54ee8a8d6d7c11778241a": {
          "model_module": "@jupyter-widgets/controls",
          "model_name": "ButtonModel",
          "model_module_version": "1.5.0",
          "state": {
            "_view_name": "ButtonView",
            "style": "IPY_MODEL_cc138e3f90e3474aa5437605190b98e4",
            "_dom_classes": [],
            "description": "Start the game",
            "_model_name": "ButtonModel",
            "button_style": "",
            "_view_module": "@jupyter-widgets/controls",
            "_model_module_version": "1.5.0",
            "tooltip": "",
            "_view_count": null,
            "disabled": false,
            "_view_module_version": "1.5.0",
            "layout": "IPY_MODEL_805509eebb144e35b850060d5b82d832",
            "_model_module": "@jupyter-widgets/controls",
            "icon": ""
          }
        },
        "cc138e3f90e3474aa5437605190b98e4": {
          "model_module": "@jupyter-widgets/controls",
          "model_name": "ButtonStyleModel",
          "model_module_version": "1.5.0",
          "state": {
            "_view_name": "StyleView",
            "_model_name": "ButtonStyleModel",
            "_view_module": "@jupyter-widgets/base",
            "_model_module_version": "1.5.0",
            "_view_count": null,
            "button_color": null,
            "font_weight": "",
            "_view_module_version": "1.2.0",
            "_model_module": "@jupyter-widgets/controls"
          }
        },
        "805509eebb144e35b850060d5b82d832": {
          "model_module": "@jupyter-widgets/base",
          "model_name": "LayoutModel",
          "model_module_version": "1.2.0",
          "state": {
            "_view_name": "LayoutView",
            "grid_template_rows": null,
            "right": null,
            "justify_content": null,
            "_view_module": "@jupyter-widgets/base",
            "overflow": null,
            "_model_module_version": "1.2.0",
            "_view_count": null,
            "flex_flow": null,
            "width": null,
            "min_width": null,
            "border": null,
            "align_items": null,
            "bottom": null,
            "_model_module": "@jupyter-widgets/base",
            "top": null,
            "grid_column": null,
            "overflow_y": null,
            "overflow_x": null,
            "grid_auto_flow": null,
            "grid_area": null,
            "grid_template_columns": null,
            "flex": null,
            "_model_name": "LayoutModel",
            "justify_items": null,
            "grid_row": null,
            "max_height": null,
            "align_content": null,
            "visibility": null,
            "align_self": null,
            "height": null,
            "min_height": null,
            "padding": null,
            "grid_auto_rows": null,
            "grid_gap": null,
            "max_width": null,
            "order": null,
            "_view_module_version": "1.2.0",
            "grid_template_areas": null,
            "object_position": null,
            "object_fit": null,
            "grid_auto_columns": null,
            "margin": null,
            "display": null,
            "left": null
          }
        },
        "99d62843704743d09596c42658eef0d3": {
          "model_module": "@jupyter-widgets/controls",
          "model_name": "HBoxModel",
          "model_module_version": "1.5.0",
          "state": {
            "_view_name": "HBoxView",
            "_dom_classes": [],
            "_model_name": "HBoxModel",
            "_view_module": "@jupyter-widgets/controls",
            "_model_module_version": "1.5.0",
            "_view_count": null,
            "_view_module_version": "1.5.0",
            "box_style": "",
            "layout": "IPY_MODEL_fd502e86d3694988bd334250aa981ab6",
            "_model_module": "@jupyter-widgets/controls",
            "children": [
              "IPY_MODEL_27402337ecb940c498cf6cd5c88da2df",
              "IPY_MODEL_a3049e4b594f4ca8802dbf021a991195",
              "IPY_MODEL_ebd54c5b7f3d46b4855438a554604b6f"
            ]
          }
        },
        "fd502e86d3694988bd334250aa981ab6": {
          "model_module": "@jupyter-widgets/base",
          "model_name": "LayoutModel",
          "model_module_version": "1.2.0",
          "state": {
            "_view_name": "LayoutView",
            "grid_template_rows": null,
            "right": null,
            "justify_content": null,
            "_view_module": "@jupyter-widgets/base",
            "overflow": null,
            "_model_module_version": "1.2.0",
            "_view_count": null,
            "flex_flow": null,
            "width": null,
            "min_width": null,
            "border": null,
            "align_items": null,
            "bottom": null,
            "_model_module": "@jupyter-widgets/base",
            "top": null,
            "grid_column": null,
            "overflow_y": null,
            "overflow_x": null,
            "grid_auto_flow": null,
            "grid_area": null,
            "grid_template_columns": null,
            "flex": null,
            "_model_name": "LayoutModel",
            "justify_items": null,
            "grid_row": null,
            "max_height": null,
            "align_content": null,
            "visibility": null,
            "align_self": null,
            "height": null,
            "min_height": null,
            "padding": null,
            "grid_auto_rows": null,
            "grid_gap": null,
            "max_width": null,
            "order": null,
            "_view_module_version": "1.2.0",
            "grid_template_areas": null,
            "object_position": null,
            "object_fit": null,
            "grid_auto_columns": null,
            "margin": null,
            "display": null,
            "left": null
          }
        },
        "27402337ecb940c498cf6cd5c88da2df": {
          "model_module": "@jupyter-widgets/controls",
          "model_name": "ButtonModel",
          "model_module_version": "1.5.0",
          "state": {
            "_view_name": "ButtonView",
            "style": "IPY_MODEL_52cb675049da4caea5b474df9b0523b4",
            "_dom_classes": [],
            "description": "6 to 3",
            "_model_name": "ButtonModel",
            "button_style": "",
            "_view_module": "@jupyter-widgets/controls",
            "_model_module_version": "1.5.0",
            "tooltip": "",
            "_view_count": null,
            "disabled": false,
            "_view_module_version": "1.5.0",
            "layout": "IPY_MODEL_eee359ad701d48539ba2bf9645c3812c",
            "_model_module": "@jupyter-widgets/controls",
            "icon": ""
          }
        },
        "a3049e4b594f4ca8802dbf021a991195": {
          "model_module": "@jupyter-widgets/controls",
          "model_name": "ButtonModel",
          "model_module_version": "1.5.0",
          "state": {
            "_view_name": "ButtonView",
            "style": "IPY_MODEL_f15db49c1cee4e728645ec976bb54ee2",
            "_dom_classes": [],
            "description": "7 to 4",
            "_model_name": "ButtonModel",
            "button_style": "",
            "_view_module": "@jupyter-widgets/controls",
            "_model_module_version": "1.5.0",
            "tooltip": "",
            "_view_count": null,
            "disabled": false,
            "_view_module_version": "1.5.0",
            "layout": "IPY_MODEL_563b7b8fc44949aab1687cfaeb702c41",
            "_model_module": "@jupyter-widgets/controls",
            "icon": ""
          }
        },
        "ebd54c5b7f3d46b4855438a554604b6f": {
          "model_module": "@jupyter-widgets/controls",
          "model_name": "ButtonModel",
          "model_module_version": "1.5.0",
          "state": {
            "_view_name": "ButtonView",
            "style": "IPY_MODEL_06c45c103f2f4a2fbf217f2640ce7d58",
            "_dom_classes": [],
            "description": "8 to 5",
            "_model_name": "ButtonModel",
            "button_style": "",
            "_view_module": "@jupyter-widgets/controls",
            "_model_module_version": "1.5.0",
            "tooltip": "",
            "_view_count": null,
            "disabled": false,
            "_view_module_version": "1.5.0",
            "layout": "IPY_MODEL_5edd21c4338e4b089adaa306f1e9b532",
            "_model_module": "@jupyter-widgets/controls",
            "icon": ""
          }
        },
        "52cb675049da4caea5b474df9b0523b4": {
          "model_module": "@jupyter-widgets/controls",
          "model_name": "ButtonStyleModel",
          "model_module_version": "1.5.0",
          "state": {
            "_view_name": "StyleView",
            "_model_name": "ButtonStyleModel",
            "_view_module": "@jupyter-widgets/base",
            "_model_module_version": "1.5.0",
            "_view_count": null,
            "button_color": null,
            "font_weight": "",
            "_view_module_version": "1.2.0",
            "_model_module": "@jupyter-widgets/controls"
          }
        },
        "eee359ad701d48539ba2bf9645c3812c": {
          "model_module": "@jupyter-widgets/base",
          "model_name": "LayoutModel",
          "model_module_version": "1.2.0",
          "state": {
            "_view_name": "LayoutView",
            "grid_template_rows": null,
            "right": null,
            "justify_content": null,
            "_view_module": "@jupyter-widgets/base",
            "overflow": null,
            "_model_module_version": "1.2.0",
            "_view_count": null,
            "flex_flow": null,
            "width": null,
            "min_width": null,
            "border": null,
            "align_items": null,
            "bottom": null,
            "_model_module": "@jupyter-widgets/base",
            "top": null,
            "grid_column": null,
            "overflow_y": null,
            "overflow_x": null,
            "grid_auto_flow": null,
            "grid_area": null,
            "grid_template_columns": null,
            "flex": null,
            "_model_name": "LayoutModel",
            "justify_items": null,
            "grid_row": null,
            "max_height": null,
            "align_content": null,
            "visibility": null,
            "align_self": null,
            "height": null,
            "min_height": null,
            "padding": null,
            "grid_auto_rows": null,
            "grid_gap": null,
            "max_width": null,
            "order": null,
            "_view_module_version": "1.2.0",
            "grid_template_areas": null,
            "object_position": null,
            "object_fit": null,
            "grid_auto_columns": null,
            "margin": null,
            "display": null,
            "left": null
          }
        },
        "f15db49c1cee4e728645ec976bb54ee2": {
          "model_module": "@jupyter-widgets/controls",
          "model_name": "ButtonStyleModel",
          "model_module_version": "1.5.0",
          "state": {
            "_view_name": "StyleView",
            "_model_name": "ButtonStyleModel",
            "_view_module": "@jupyter-widgets/base",
            "_model_module_version": "1.5.0",
            "_view_count": null,
            "button_color": null,
            "font_weight": "",
            "_view_module_version": "1.2.0",
            "_model_module": "@jupyter-widgets/controls"
          }
        },
        "563b7b8fc44949aab1687cfaeb702c41": {
          "model_module": "@jupyter-widgets/base",
          "model_name": "LayoutModel",
          "model_module_version": "1.2.0",
          "state": {
            "_view_name": "LayoutView",
            "grid_template_rows": null,
            "right": null,
            "justify_content": null,
            "_view_module": "@jupyter-widgets/base",
            "overflow": null,
            "_model_module_version": "1.2.0",
            "_view_count": null,
            "flex_flow": null,
            "width": null,
            "min_width": null,
            "border": null,
            "align_items": null,
            "bottom": null,
            "_model_module": "@jupyter-widgets/base",
            "top": null,
            "grid_column": null,
            "overflow_y": null,
            "overflow_x": null,
            "grid_auto_flow": null,
            "grid_area": null,
            "grid_template_columns": null,
            "flex": null,
            "_model_name": "LayoutModel",
            "justify_items": null,
            "grid_row": null,
            "max_height": null,
            "align_content": null,
            "visibility": null,
            "align_self": null,
            "height": null,
            "min_height": null,
            "padding": null,
            "grid_auto_rows": null,
            "grid_gap": null,
            "max_width": null,
            "order": null,
            "_view_module_version": "1.2.0",
            "grid_template_areas": null,
            "object_position": null,
            "object_fit": null,
            "grid_auto_columns": null,
            "margin": null,
            "display": null,
            "left": null
          }
        },
        "06c45c103f2f4a2fbf217f2640ce7d58": {
          "model_module": "@jupyter-widgets/controls",
          "model_name": "ButtonStyleModel",
          "model_module_version": "1.5.0",
          "state": {
            "_view_name": "StyleView",
            "_model_name": "ButtonStyleModel",
            "_view_module": "@jupyter-widgets/base",
            "_model_module_version": "1.5.0",
            "_view_count": null,
            "button_color": null,
            "font_weight": "",
            "_view_module_version": "1.2.0",
            "_model_module": "@jupyter-widgets/controls"
          }
        },
        "5edd21c4338e4b089adaa306f1e9b532": {
          "model_module": "@jupyter-widgets/base",
          "model_name": "LayoutModel",
          "model_module_version": "1.2.0",
          "state": {
            "_view_name": "LayoutView",
            "grid_template_rows": null,
            "right": null,
            "justify_content": null,
            "_view_module": "@jupyter-widgets/base",
            "overflow": null,
            "_model_module_version": "1.2.0",
            "_view_count": null,
            "flex_flow": null,
            "width": null,
            "min_width": null,
            "border": null,
            "align_items": null,
            "bottom": null,
            "_model_module": "@jupyter-widgets/base",
            "top": null,
            "grid_column": null,
            "overflow_y": null,
            "overflow_x": null,
            "grid_auto_flow": null,
            "grid_area": null,
            "grid_template_columns": null,
            "flex": null,
            "_model_name": "LayoutModel",
            "justify_items": null,
            "grid_row": null,
            "max_height": null,
            "align_content": null,
            "visibility": null,
            "align_self": null,
            "height": null,
            "min_height": null,
            "padding": null,
            "grid_auto_rows": null,
            "grid_gap": null,
            "max_width": null,
            "order": null,
            "_view_module_version": "1.2.0",
            "grid_template_areas": null,
            "object_position": null,
            "object_fit": null,
            "grid_auto_columns": null,
            "margin": null,
            "display": null,
            "left": null
          }
        },
        "cad52d5ebf3c439482efe09919eb28df": {
          "model_module": "@jupyter-widgets/controls",
          "model_name": "HBoxModel",
          "model_module_version": "1.5.0",
          "state": {
            "_view_name": "HBoxView",
            "_dom_classes": [],
            "_model_name": "HBoxModel",
            "_view_module": "@jupyter-widgets/controls",
            "_model_module_version": "1.5.0",
            "_view_count": null,
            "_view_module_version": "1.5.0",
            "box_style": "",
            "layout": "IPY_MODEL_32215e3324a348728bb3f37937023cac",
            "_model_module": "@jupyter-widgets/controls",
            "children": [
              "IPY_MODEL_9b235fb7ed5c4fde98dfe96afc5d6a91",
              "IPY_MODEL_16c4b60111c642a5b73bfd600872f456"
            ]
          }
        },
        "32215e3324a348728bb3f37937023cac": {
          "model_module": "@jupyter-widgets/base",
          "model_name": "LayoutModel",
          "model_module_version": "1.2.0",
          "state": {
            "_view_name": "LayoutView",
            "grid_template_rows": null,
            "right": null,
            "justify_content": null,
            "_view_module": "@jupyter-widgets/base",
            "overflow": null,
            "_model_module_version": "1.2.0",
            "_view_count": null,
            "flex_flow": null,
            "width": null,
            "min_width": null,
            "border": null,
            "align_items": null,
            "bottom": null,
            "_model_module": "@jupyter-widgets/base",
            "top": null,
            "grid_column": null,
            "overflow_y": null,
            "overflow_x": null,
            "grid_auto_flow": null,
            "grid_area": null,
            "grid_template_columns": null,
            "flex": null,
            "_model_name": "LayoutModel",
            "justify_items": null,
            "grid_row": null,
            "max_height": null,
            "align_content": null,
            "visibility": null,
            "align_self": null,
            "height": null,
            "min_height": null,
            "padding": null,
            "grid_auto_rows": null,
            "grid_gap": null,
            "max_width": null,
            "order": null,
            "_view_module_version": "1.2.0",
            "grid_template_areas": null,
            "object_position": null,
            "object_fit": null,
            "grid_auto_columns": null,
            "margin": null,
            "display": null,
            "left": null
          }
        },
        "9b235fb7ed5c4fde98dfe96afc5d6a91": {
          "model_module": "@jupyter-widgets/controls",
          "model_name": "ButtonModel",
          "model_module_version": "1.5.0",
          "state": {
            "_view_name": "ButtonView",
            "style": "IPY_MODEL_efd854aae2ec4b00a9042ce7f3119135",
            "_dom_classes": [],
            "description": "4 to 0",
            "_model_name": "ButtonModel",
            "button_style": "",
            "_view_module": "@jupyter-widgets/controls",
            "_model_module_version": "1.5.0",
            "tooltip": "",
            "_view_count": null,
            "disabled": false,
            "_view_module_version": "1.5.0",
            "layout": "IPY_MODEL_d7697d6f35be4b5f88d6fb86904430f5",
            "_model_module": "@jupyter-widgets/controls",
            "icon": ""
          }
        },
        "16c4b60111c642a5b73bfd600872f456": {
          "model_module": "@jupyter-widgets/controls",
          "model_name": "ButtonModel",
          "model_module_version": "1.5.0",
          "state": {
            "_view_name": "ButtonView",
            "style": "IPY_MODEL_0003f018a07043f798e7af5c33943d46",
            "_dom_classes": [],
            "description": "6 to 3",
            "_model_name": "ButtonModel",
            "button_style": "",
            "_view_module": "@jupyter-widgets/controls",
            "_model_module_version": "1.5.0",
            "tooltip": "",
            "_view_count": null,
            "disabled": false,
            "_view_module_version": "1.5.0",
            "layout": "IPY_MODEL_0089f626ccf74d3e9b1df67c652261ca",
            "_model_module": "@jupyter-widgets/controls",
            "icon": ""
          }
        },
        "efd854aae2ec4b00a9042ce7f3119135": {
          "model_module": "@jupyter-widgets/controls",
          "model_name": "ButtonStyleModel",
          "model_module_version": "1.5.0",
          "state": {
            "_view_name": "StyleView",
            "_model_name": "ButtonStyleModel",
            "_view_module": "@jupyter-widgets/base",
            "_model_module_version": "1.5.0",
            "_view_count": null,
            "button_color": null,
            "font_weight": "",
            "_view_module_version": "1.2.0",
            "_model_module": "@jupyter-widgets/controls"
          }
        },
        "d7697d6f35be4b5f88d6fb86904430f5": {
          "model_module": "@jupyter-widgets/base",
          "model_name": "LayoutModel",
          "model_module_version": "1.2.0",
          "state": {
            "_view_name": "LayoutView",
            "grid_template_rows": null,
            "right": null,
            "justify_content": null,
            "_view_module": "@jupyter-widgets/base",
            "overflow": null,
            "_model_module_version": "1.2.0",
            "_view_count": null,
            "flex_flow": null,
            "width": null,
            "min_width": null,
            "border": null,
            "align_items": null,
            "bottom": null,
            "_model_module": "@jupyter-widgets/base",
            "top": null,
            "grid_column": null,
            "overflow_y": null,
            "overflow_x": null,
            "grid_auto_flow": null,
            "grid_area": null,
            "grid_template_columns": null,
            "flex": null,
            "_model_name": "LayoutModel",
            "justify_items": null,
            "grid_row": null,
            "max_height": null,
            "align_content": null,
            "visibility": null,
            "align_self": null,
            "height": null,
            "min_height": null,
            "padding": null,
            "grid_auto_rows": null,
            "grid_gap": null,
            "max_width": null,
            "order": null,
            "_view_module_version": "1.2.0",
            "grid_template_areas": null,
            "object_position": null,
            "object_fit": null,
            "grid_auto_columns": null,
            "margin": null,
            "display": null,
            "left": null
          }
        },
        "0003f018a07043f798e7af5c33943d46": {
          "model_module": "@jupyter-widgets/controls",
          "model_name": "ButtonStyleModel",
          "model_module_version": "1.5.0",
          "state": {
            "_view_name": "StyleView",
            "_model_name": "ButtonStyleModel",
            "_view_module": "@jupyter-widgets/base",
            "_model_module_version": "1.5.0",
            "_view_count": null,
            "button_color": null,
            "font_weight": "",
            "_view_module_version": "1.2.0",
            "_model_module": "@jupyter-widgets/controls"
          }
        },
        "0089f626ccf74d3e9b1df67c652261ca": {
          "model_module": "@jupyter-widgets/base",
          "model_name": "LayoutModel",
          "model_module_version": "1.2.0",
          "state": {
            "_view_name": "LayoutView",
            "grid_template_rows": null,
            "right": null,
            "justify_content": null,
            "_view_module": "@jupyter-widgets/base",
            "overflow": null,
            "_model_module_version": "1.2.0",
            "_view_count": null,
            "flex_flow": null,
            "width": null,
            "min_width": null,
            "border": null,
            "align_items": null,
            "bottom": null,
            "_model_module": "@jupyter-widgets/base",
            "top": null,
            "grid_column": null,
            "overflow_y": null,
            "overflow_x": null,
            "grid_auto_flow": null,
            "grid_area": null,
            "grid_template_columns": null,
            "flex": null,
            "_model_name": "LayoutModel",
            "justify_items": null,
            "grid_row": null,
            "max_height": null,
            "align_content": null,
            "visibility": null,
            "align_self": null,
            "height": null,
            "min_height": null,
            "padding": null,
            "grid_auto_rows": null,
            "grid_gap": null,
            "max_width": null,
            "order": null,
            "_view_module_version": "1.2.0",
            "grid_template_areas": null,
            "object_position": null,
            "object_fit": null,
            "grid_auto_columns": null,
            "margin": null,
            "display": null,
            "left": null
          }
        }
      }
    }
  },
  "cells": [
    {
      "cell_type": "markdown",
      "metadata": {
        "id": "view-in-github",
        "colab_type": "text"
      },
      "source": [
        "<a href=\"https://colab.research.google.com/github/Javicobos/MENACE22/blob/main/Hexapawn.ipynb\" target=\"_parent\"><img src=\"https://colab.research.google.com/assets/colab-badge.svg\" alt=\"Open In Colab\"/></a>"
      ]
    },
    {
      "cell_type": "markdown",
      "source": [
        "# Set up"
      ],
      "metadata": {
        "id": "7fimT_Ttv92g"
      }
    },
    {
      "cell_type": "markdown",
      "source": [
        "## Setting up all possible Hexapawn boards"
      ],
      "metadata": {
        "id": "d8-F9eMYn-gE"
      }
    },
    {
      "cell_type": "markdown",
      "source": [
        "Based on [this](http://cs.williams.edu/~freund/cs136-073/GardnerHexapawn.pdf)."
      ],
      "metadata": {
        "id": "QIC5V-dm0RI6"
      }
    },
    {
      "cell_type": "code",
      "execution_count": 18,
      "metadata": {
        "id": "wbB6rX7U0HGV"
      },
      "outputs": [],
      "source": [
        "# Let's start with a basic matrix (that will actually be a list)\n",
        "gameBoard = [1,1,1,\n",
        "             0,0,0,\n",
        "             2,2,2]\n",
        "# Positions are numbered like this:\n",
        "#           [0,1,2,\n",
        "#            3,4,5,\n",
        "#            6,7,8]"
      ]
    },
    {
      "cell_type": "code",
      "source": [
        "def can_move(piece):\n",
        "    if piece == 1:\n",
        "        for i, ele in enumerate(gameBoard[:6]):\n",
        "            if ele == 1:\n",
        "                if gameBoard[i + 3] == 0:\n",
        "                    return 1\n",
        "                if (i%3)%2 == 0:                    # side piece\n",
        "                    if (i%3) == 0:                  # left edge \n",
        "                        if gameBoard[i + 4] == 2:\n",
        "                            return 1\n",
        "                    else:\n",
        "                        if gameBoard[i + 2] == 2:\n",
        "                            return 1\n",
        "                else:                               # middle piece\n",
        "                    if gameBoard[i + 2] == 2:       # eat left\n",
        "                        return 1\n",
        "                    if gameBoard[i + 4] == 2:       # eat right\n",
        "                        return 1\n",
        "    else:\n",
        "        for i, ele in enumerate(gameBoard[3:]):\n",
        "            if ele == 2:\n",
        "                if gameBoard[i+3 - 3]  == 0:          # forward\n",
        "                    return 2\n",
        "                if ((i+3)%3)%2 == 0:                    # side piece\n",
        "                    if ((i+3)%3) == 0:                  # left edge\n",
        "                        if gameBoard[i+3 - 2] == 1:   # 3 to 1, 6 to 4\n",
        "                            return 2\n",
        "                    else:                           # right edge\n",
        "                        if gameBoard[i+3 - 4] == 1:\n",
        "                            return 2\n",
        "                else:                               # middle piece\n",
        "                    if gameBoard[i+3 - 2] == 1:       # eat left\n",
        "                        return 2\n",
        "                    if gameBoard[i+3 - 4] == 1:       # eat right\n",
        "                        return 2\n",
        "    return 0\n",
        "\n",
        "def game_over():\n",
        "    if 1 in gameBoard[6:]:\n",
        "        return 1                        # 1 reached the end of the board\n",
        "    if 2 in gameBoard[:3]:\n",
        "        return 2                        # 2 reached the end of the board\n",
        "    return 0                            # game is not over"
      ],
      "metadata": {
        "id": "qjjEGm4i0gxS"
      },
      "execution_count": 19,
      "outputs": []
    },
    {
      "cell_type": "code",
      "source": [
        "# Let's make a file with the \"boxes\"\n",
        "# Copying the boxes would take a tenth of the time\n",
        "# But I wanted to practice so let's program making them\n",
        "outputFile = open('Hexapawn_Boxes.txt', 'w')\n",
        "allBoards = []\n",
        "\n",
        "def sym(k):\n",
        "    return k - 2*(k%3) + 2\n",
        "    # map { (0,2), (1,1), (2,0)\n",
        "    #       (3,5), (4,4), (5,3)\n",
        "    #       (6,8), (7,7), (8,6) }\n",
        "\n",
        "def after_move(piece):\n",
        "    #if gameBoard == [0,0,1,2,2,2,0,0,0]:\n",
        "    #    print (\"it is here\")\n",
        "    #if gameBoard == [1,0,0,2,2,2,0,0,0]:\n",
        "    #    print (\"it is here sym after\")\n",
        "    if gameBoard not in allBoards:\n",
        "        for k, ele in enumerate(gameBoard): #super inefficient idc\n",
        "            symmetricBoard[ sym(k) ] = ele\n",
        "            #if k%3 == 0:\n",
        "            #    symmetricBoard[k + 2] = ele\n",
        "            #elif k%3 == 1:\n",
        "            #    symmetricBoard[k] = ele\n",
        "            #elif k%3 == 2:\n",
        "            #    symmetricBoard[k-2] = ele\n",
        "        if symmetricBoard not in allBoards:\n",
        "            # if symmetric is not here\n",
        "            #print (\"we append a new board\")\n",
        "            #print (gameBoard)\n",
        "            #print (allBoards)\n",
        "            if piece == 1:\n",
        "                two_moves()\n",
        "            else:\n",
        "                allBoards.append(gameBoard[:])\n",
        "                one_moves()\n",
        "    #else:\n",
        "        #print (game_over_result)\n",
        "        #print (\"Game Over\")\n",
        "        #print (gameBoard)\n",
        "def move_piece(piece, start, end):  # underPiece is to undo eating\n",
        "    underPiece = gameBoard[end]\n",
        "    gameBoard[start] = 0\n",
        "    gameBoard[end] = piece\n",
        "\n",
        "    if game_over() == 0 and can_move(-piece + 3) != 0:  # -piece + 3 sends 2 to 1 and 1 to 2\n",
        "        after_move(piece)\n",
        "\n",
        "    gameBoard[end] = underPiece\n",
        "    gameBoard[start] = piece\n",
        "\n",
        "def two_moves():\n",
        "    for i, ele in enumerate(gameBoard[3:]):\n",
        "        if ele == 2:\n",
        "            if gameBoard[i+3 - 3]  == 0:          # forward\n",
        "                move_piece(2, i+3 , i+3 -3)\n",
        "            if ((i+3)%3)%2 == 0:                    # side piece\n",
        "                if ((i+3)%3) == 0:                  # left edge\n",
        "                    if gameBoard[i+3 - 2] == 1:   # 3 to 1, 6 to 4\n",
        "                        move_piece(2, i+3, i+3-2)\n",
        "                else:                           # right edge\n",
        "                    if gameBoard[i+3 - 4] == 1:\n",
        "                        move_piece(2, i+3, i+3-4)\n",
        "            else:                               # middle piece\n",
        "                if gameBoard[i+3 - 2] == 1:       # eat left\n",
        "                    move_piece(2, i+3, i+3-2)\n",
        "                if gameBoard[i+3 - 4] == 1:       # eat right\n",
        "                    move_piece(2, i+3, i+3-4)\n",
        "def one_moves():\n",
        "    for i, ele in enumerate(gameBoard[:6]):\n",
        "        if ele == 1:\n",
        "            if gameBoard[i + 3] == 0:\n",
        "                move_piece(1, i, i+3)\n",
        "            if (i%3)%2 == 0:                    # side piece\n",
        "                if (i%3) == 0:                  # left edge \n",
        "                    if gameBoard[i + 4] == 2:\n",
        "                        move_piece(1, i, i + 4)\n",
        "                else:\n",
        "                    if gameBoard[i + 2] == 2:\n",
        "                        move_piece(1, i, i + 2)\n",
        "            else:                               # middle piece\n",
        "                if gameBoard[i + 2] == 2:       # eat left\n",
        "                    move_piece(1, i, i+2)\n",
        "                if gameBoard[i + 4] == 2:       # eat right\n",
        "                    move_piece(1, i, i+4)\n",
        "\n",
        "#           [0,1,2,\n",
        "#            3,4,5,\n",
        "#            6,7,8]\n",
        "# from 3, top diagonal is 1\n",
        "# from 4, top diagonals are 0 and 2\n",
        "# from 5, top diagonal is 1\n",
        "# from 6, top diagonal is 4\n",
        "# from 7, top diagonals are 3 and 5\n",
        "# from 8, top diagonal is 4\n",
        "\n",
        "    \n"
      ],
      "metadata": {
        "id": "MvklfF-A2_Av"
      },
      "execution_count": 20,
      "outputs": []
    },
    {
      "cell_type": "code",
      "source": [
        "allBoards = []\n",
        "gameBoard = [1,1,1,\n",
        "             0,0,0,\n",
        "             2,2,2]\n",
        "symmetricBoard =    [1,1,1,\n",
        "                    0,0,0,\n",
        "                    2,2,2]\n",
        "two_moves()\n",
        "print (allBoards)\n",
        "\n",
        "outputFile = open('Hexapawn_Boxes.txt', 'w')\n",
        "for num, i in enumerate(allBoards):\n",
        "    outputFile.write(str(i[:3]) + '\\n')\n",
        "    outputFile.write(str(i[3:6]) + '\\n')\n",
        "    outputFile.write(str(i[6:]) + '\\n')\n",
        "    outputFile.write(\"that was the \" + str(num) + \" board\" + '\\n' + '\\n')"
      ],
      "metadata": {
        "id": "jHiw4-TOF2eK",
        "colab": {
          "base_uri": "https://localhost:8080/"
        },
        "outputId": "fd9c0c8c-6b7b-4a48-82a8-7999dc6c3d6b"
      },
      "execution_count": 21,
      "outputs": [
        {
          "output_type": "stream",
          "name": "stdout",
          "text": [
            "[[1, 1, 1, 2, 0, 0, 0, 2, 2], [1, 0, 1, 2, 2, 0, 0, 2, 0], [1, 0, 0, 2, 2, 2, 0, 0, 0], [1, 0, 1, 1, 2, 0, 0, 0, 2], [0, 0, 1, 1, 1, 2, 0, 0, 0], [0, 0, 1, 1, 2, 0, 0, 0, 0], [1, 0, 0, 1, 1, 2, 0, 0, 0], [1, 0, 0, 1, 2, 0, 0, 0, 0], [1, 0, 1, 2, 0, 0, 0, 0, 2], [1, 0, 1, 1, 0, 2, 0, 2, 0], [1, 1, 0, 2, 2, 1, 0, 0, 2], [0, 1, 0, 2, 2, 1, 0, 0, 0], [1, 1, 0, 2, 0, 2, 0, 0, 2], [1, 1, 1, 0, 2, 0, 2, 0, 2], [0, 1, 1, 2, 1, 0, 0, 0, 2], [0, 1, 1, 0, 2, 0, 0, 0, 2], [0, 1, 0, 0, 1, 2, 0, 0, 0], [0, 1, 1, 0, 1, 2, 2, 0, 0], [0, 1, 1, 0, 2, 0, 2, 0, 0]]\n"
          ]
        }
      ]
    },
    {
      "cell_type": "markdown",
      "source": [
        "## Setting up all possible moves"
      ],
      "metadata": {
        "id": "IV75rvoIoRu4"
      }
    },
    {
      "cell_type": "code",
      "source": [
        "all_moves_list = []\n",
        "all_moves_descriptive = []\n",
        "def moves_list():\n",
        "    for e, board in enumerate(allBoards):\n",
        "        all_moves_list.append([])\n",
        "        all_moves_descriptive.append([])\n",
        "        for i, ele in enumerate(board[:6]):\n",
        "            if ele == 1:\n",
        "                if board[i + 3] == 0:\n",
        "                    all_moves_list[-1].append(1)\n",
        "                    all_moves_descriptive[-1].append((i, i+3))\n",
        "                if (i%3)%2 == 0:                    # side piece\n",
        "                    if (i%3) == 0:                  # left edge \n",
        "                        if board[i + 4] == 2:\n",
        "                            all_moves_list[-1].append(1)\n",
        "                            all_moves_descriptive[-1].append((i, i+4))\n",
        "                    else:\n",
        "                        if board[i + 2] == 2:\n",
        "                            all_moves_list[-1].append(1)\n",
        "                            all_moves_descriptive[-1].append((i, i+2))\n",
        "                else:                               # middle piece\n",
        "                    if board[i + 2] == 2:       # eat left\n",
        "                        all_moves_list[-1].append(1)\n",
        "                        all_moves_descriptive[-1].append((i, i+2))\n",
        "                    if board[i + 4] == 2:       # eat right\n",
        "                        all_moves_list[-1].append(1)\n",
        "                        all_moves_descriptive[-1].append((i, i+4))\n",
        "\n",
        "moves_list()          \n",
        "print (all_moves_list)\n",
        "print (all_moves_descriptive)"
      ],
      "metadata": {
        "colab": {
          "base_uri": "https://localhost:8080/"
        },
        "id": "kfhdR9FJfARa",
        "outputId": "c1b617c0-8e50-4102-9bdd-13071f5eed1c"
      },
      "execution_count": 22,
      "outputs": [
        {
          "output_type": "stream",
          "name": "stdout",
          "text": [
            "[[1, 1, 1], [1, 1, 1], [1], [1, 1, 1, 1], [1, 1], [1, 1, 1], [1, 1], [1, 1], [1], [1, 1], [1, 1], [1, 1], [1, 1, 1], [1, 1, 1, 1], [1, 1, 1, 1], [1, 1], [1, 1], [1, 1, 1], [1, 1]]\n",
            "[[(1, 4), (1, 3), (2, 5)], [(0, 4), (2, 5), (2, 4)], [(0, 4)], [(0, 4), (2, 5), (2, 4), (3, 6)], [(3, 6), (4, 7)], [(2, 5), (2, 4), (3, 6)], [(3, 6), (4, 7)], [(0, 4), (3, 6)], [(2, 5)], [(3, 6), (3, 7)], [(0, 4), (1, 3)], [(1, 3), (5, 8)], [(1, 4), (1, 3), (1, 5)], [(0, 3), (0, 4), (2, 5), (2, 4)], [(1, 3), (2, 5), (4, 7), (4, 8)], [(2, 5), (2, 4)], [(1, 5), (4, 7)], [(1, 5), (4, 7), (4, 6)], [(2, 5), (2, 4)]]\n"
          ]
        }
      ]
    },
    {
      "cell_type": "markdown",
      "source": [
        "# Picking the machine's moves"
      ],
      "metadata": {
        "id": "AHSYm0i_oezg"
      }
    },
    {
      "cell_type": "code",
      "source": [
        "import random"
      ],
      "metadata": {
        "id": "Y2MsdDxRQ-tD"
      },
      "execution_count": 80,
      "outputs": []
    },
    {
      "cell_type": "code",
      "source": [
        "def pick_move(boardIndex):\n",
        "    currentMovesList = all_moves_list[boardIndex]\n",
        "    #currentMovesDescriptor = all_moves_descriptive[boardIndex]\n",
        "    totalBeads = 0\n",
        "    for i in currentMovesList:\n",
        "        totalBeads += i\n",
        "    if totalBeads == 0:\n",
        "        return -1\n",
        "    chosenMove = random.randint(1, totalBeads)\n",
        "    usedBeads = 0\n",
        "    for j, ele in enumerate(currentMovesList):\n",
        "        usedBeads += ele\n",
        "        if usedBeads >= chosenMove:\n",
        "            return j\n",
        "\n",
        "print (all_moves_descriptive[3][pick_move(3)])"
      ],
      "metadata": {
        "id": "8OXN4gFULFZr",
        "colab": {
          "base_uri": "https://localhost:8080/"
        },
        "outputId": "61b5377c-502e-4714-9ced-4e395b339396"
      },
      "execution_count": 81,
      "outputs": [
        {
          "output_type": "stream",
          "name": "stdout",
          "text": [
            "(3, 6)\n"
          ]
        }
      ]
    },
    {
      "cell_type": "code",
      "source": [
        "gameBoard = [1,1,1,\n",
        "             0,0,0,\n",
        "             2,2,2]\n",
        "\n",
        "def print_board():\n",
        "    print (gameBoard[:3])\n",
        "    print (gameBoard[3:6])\n",
        "    print (gameBoard[6:])\n",
        "    print ()\n",
        "\n",
        "def simple_move_piece(piece, start, end):  \n",
        "    gameBoard[start] = 0\n",
        "    gameBoard[end] = piece\n",
        "\n",
        "#print (all_moves_descriptive[allBoards.index(gameBoard)][pick_move(allBoards.index(gameBoard))])\n",
        "\n",
        "moves_in_game = []\n",
        "\n",
        "def do_move():                          # need to save our moves and reinforce after w/l\n",
        "    #print (game_over())\n",
        "    if game_over() == 2 or can_move(1) == 0:\n",
        "        print_board()\n",
        "        print (\"you win, human\")\n",
        "        reinforce()\n",
        "        return\n",
        "    print (\"your move:\")\n",
        "    print_board()\n",
        "    if gameBoard not in allBoards:      \n",
        "        for k, ele in enumerate(gameBoard): \n",
        "            symmetricBoard[k - 2*(k%3) + 2] = ele\n",
        "        if symmetricBoard not in allBoards:\n",
        "            print (\"something went wrong\")\n",
        "            print (gameBoard)\n",
        "            print (symmetricBoard)\n",
        "            return\n",
        "        else:\n",
        "            boardIndex = allBoards.index(symmetricBoard)\n",
        "            chosenMoveIndex = pick_move(boardIndex)\n",
        "            moveToDo = all_moves_descriptive[boardIndex][chosenMoveIndex]\n",
        "            moves_in_game.append(( boardIndex, chosenMoveIndex ))\n",
        "            simple_move_piece(1, sym(moveToDo[0]) , sym(moveToDo[1]))\n",
        "    else:\n",
        "        boardIndex = allBoards.index(gameBoard)\n",
        "        chosenMoveIndex = pick_move(boardIndex)\n",
        "        moveToDo = all_moves_descriptive[boardIndex][chosenMoveIndex]\n",
        "        moves_in_game.append(( boardIndex, chosenMoveIndex ))\n",
        "        simple_move_piece(1, moveToDo[0], moveToDo[1])\n",
        "\n",
        "    print (\"the machine's move:\")\n",
        "    print_board()\n",
        "    if game_over() == 1 or can_move(2) == 0:\n",
        "        print (\"the machine won\")\n",
        "    else:\n",
        "        print (\"your turn, human\")\n",
        "\n",
        "def reinforce(): # for now we will only learn from losses\n",
        "    for moveTuple in moves_in_game:\n",
        "        all_moves_list[ moveTuple[0] ][ moveTuple[1] ] -= 1 \n"
      ],
      "metadata": {
        "id": "XaxPDi9WIDRv"
      },
      "execution_count": 82,
      "outputs": []
    },
    {
      "cell_type": "code",
      "source": [
        "playerPossibleMoves = []\n",
        "def player_moves():\n",
        "    playerPossibleMoves.clear()\n",
        "    for i, ele in enumerate(gameBoard[3:]):\n",
        "        if ele == 2:\n",
        "            if gameBoard[i+3 - 3] == 0:          # forward\n",
        "                playerPossibleMoves.append((i+3, i))\n",
        "            if ((i+3)%3)%2 == 0:                    # side piece\n",
        "                if ((i+3)%3) == 0:                  # left edge\n",
        "                    if gameBoard[i+3 - 2] == 1:   # 3 to 1, 6 to 4\n",
        "                        playerPossibleMoves.append((i+3, i+1))\n",
        "                else:                           # right edge\n",
        "                    if gameBoard[i+3 - 4] == 1:\n",
        "                        playerPossibleMoves.append((i+3, i-1))\n",
        "            else:                               # middle piece\n",
        "                if gameBoard[i+3 - 2] == 1:       # eat left\n",
        "                    playerPossibleMoves.append((i+3, i+1))\n",
        "                if gameBoard[i+3 - 4] == 1:       # eat right\n",
        "                    playerPossibleMoves.append((i+3, i-1))"
      ],
      "metadata": {
        "id": "iVq_bKe2AdOi"
      },
      "execution_count": 110,
      "outputs": []
    },
    {
      "cell_type": "markdown",
      "source": [
        "### Reset the learning"
      ],
      "metadata": {
        "id": "TYC0mhn5Akyu"
      }
    },
    {
      "cell_type": "code",
      "source": [
        "all_moves_list = []\n",
        "all_moves_descriptive = []\n",
        "\n",
        "moves_list()"
      ],
      "metadata": {
        "id": "6ac3lSL4Ai2H"
      },
      "execution_count": 248,
      "outputs": []
    },
    {
      "cell_type": "markdown",
      "source": [
        "# Time to play"
      ],
      "metadata": {
        "id": "lL_90jaAoln5"
      }
    },
    {
      "cell_type": "markdown",
      "source": [
        "### Reset the game here"
      ],
      "metadata": {
        "id": "DLx4B713AHR0"
      }
    },
    {
      "cell_type": "code",
      "source": [
        "moves_in_game = []\n",
        "gameBoard = [1,1,1,\n",
        "             0,0,0,\n",
        "             2,2,2]\n",
        "\n",
        "# run this cell to reset the game"
      ],
      "metadata": {
        "id": "hg3Wfz_sNy1t"
      },
      "execution_count": 249,
      "outputs": []
    },
    {
      "cell_type": "markdown",
      "source": [
        "### Choose your move here\n"
      ],
      "metadata": {
        "id": "gDTtYq-3BaDt"
      }
    },
    {
      "cell_type": "code",
      "source": [
        "# Choose your move using the form to the side, then run this cell \n",
        "# Positions are numbered like this:\n",
        "#           [0,1,2,\n",
        "#            3,4,5,\n",
        "#            6,7,8]\n",
        "# form info here: https://colab.research.google.com/notebooks/forms.ipynb#scrollTo=eFN7-fUKs-Bu\n",
        "\n",
        "#@markdown ### Starting position:\n",
        "startPosition =  6#@param {type:\"integer\"}\n",
        "#@markdown ### Ending position:\n",
        "endPosition = 3 #@param {type:\"integer\"}\n",
        "\n",
        "#@markdown\n",
        "\n",
        "#@markdown ### Run the cell after the values are set up\n",
        "\n",
        "\n",
        "simple_move_piece(2, startPosition, endPosition)\n",
        "\n",
        "do_move()"
      ],
      "metadata": {
        "id": "gAQW_-K_LoRT"
      },
      "execution_count": null,
      "outputs": []
    },
    {
      "cell_type": "code",
      "source": [
        "print (all_moves_list)\n",
        "print (all_moves_descriptive)"
      ],
      "metadata": {
        "colab": {
          "base_uri": "https://localhost:8080/"
        },
        "id": "x-WZb072ChKk",
        "outputId": "4b82d82a-f528-44ee-8b2f-da65d53a0657"
      },
      "execution_count": 170,
      "outputs": [
        {
          "output_type": "stream",
          "name": "stdout",
          "text": [
            "[[0, -1, -1], [0, 1, 1], [1], [1, 1, 1, 1], [1, 1], [1, 1, 1], [1, 1], [1, 1], [1], [1, 1], [-1, 1], [1, 1], [1, 1, 1], [0, -1, 0, 0], [1, 1, 1, 1], [1, -1], [1, 1], [1, 1, 1], [1, 0]]\n",
            "[[(1, 4), (1, 3), (2, 5)], [(0, 4), (2, 5), (2, 4)], [(0, 4)], [(0, 4), (2, 5), (2, 4), (3, 6)], [(3, 6), (4, 7)], [(2, 5), (2, 4), (3, 6)], [(3, 6), (4, 7)], [(0, 4), (3, 6)], [(2, 5)], [(3, 6), (3, 7)], [(0, 4), (1, 3)], [(1, 3), (5, 8)], [(1, 4), (1, 3), (1, 5)], [(0, 3), (0, 4), (2, 5), (2, 4)], [(1, 3), (2, 5), (4, 7), (4, 8)], [(2, 5), (2, 4)], [(1, 5), (4, 7)], [(1, 5), (4, 7), (4, 6)], [(2, 5), (2, 4)]]\n"
          ]
        }
      ]
    },
    {
      "cell_type": "code",
      "source": [
        "from IPython.core.display import Pretty, clear_output\n",
        "import ipywidgets as widgets\n",
        "from IPython.display import display, update_display\n",
        "from ipywidgets import Button, HBox, VBox\n",
        "\n",
        "\n",
        "def on_button_clicked(b):\n",
        "    if b not in buttons:\n",
        "        print (\"that is illegal\")\n",
        "        return\n",
        "    clear_output()\n",
        "    print (b.description)\n",
        "    simple_move_piece(2, int(b.description[0]), int(b.description[-1]))\n",
        "    do_move()\n",
        "    if game_over() != 0 or can_move(1) == 0:        #restart game\n",
        "        print (\"a\")\n",
        "        return\n",
        "    player_moves()\n",
        "    buttons.clear()\n",
        "    for moveTuple in playerPossibleMoves:\n",
        "        buttons.append(Button(description=str(moveTuple[0]) + \" to \" + str(moveTuple[1])))\n",
        "    for butt in buttons:\n",
        "        butt.on_click(on_button_clicked)\n",
        "    update_display(HBox(buttons), display_id=display_ID)\n",
        "        \n",
        "\n",
        "def start_button_func(b):\n",
        "    clear_output()\n",
        "    print_board()\n",
        "    update_display(HBox(buttons), display_id=display_ID)\n",
        "\n",
        "player_moves()\n",
        "buttons = [Button(description=str(moveTuple[0]) + \" to \" + str(moveTuple[1])) for moveTuple in playerPossibleMoves]\n",
        "for butt in buttons:\n",
        "    butt.on_click(on_button_clicked)\n",
        "\n",
        "startButton = Button(description=\"Start the game\")\n",
        "startButton.on_click(start_button_func)\n",
        "\n",
        "display_ID = display(startButton, display_id=True)\n",
        "\n"
      ],
      "metadata": {
        "colab": {
          "base_uri": "https://localhost:8080/",
          "height": 281,
          "referenced_widgets": [
            "3526bebc73c54ee8a8d6d7c11778241a",
            "cc138e3f90e3474aa5437605190b98e4",
            "805509eebb144e35b850060d5b82d832",
            "99d62843704743d09596c42658eef0d3",
            "fd502e86d3694988bd334250aa981ab6",
            "27402337ecb940c498cf6cd5c88da2df",
            "a3049e4b594f4ca8802dbf021a991195",
            "ebd54c5b7f3d46b4855438a554604b6f",
            "52cb675049da4caea5b474df9b0523b4",
            "eee359ad701d48539ba2bf9645c3812c",
            "f15db49c1cee4e728645ec976bb54ee2",
            "563b7b8fc44949aab1687cfaeb702c41",
            "06c45c103f2f4a2fbf217f2640ce7d58",
            "5edd21c4338e4b089adaa306f1e9b532",
            "cad52d5ebf3c439482efe09919eb28df",
            "32215e3324a348728bb3f37937023cac",
            "9b235fb7ed5c4fde98dfe96afc5d6a91",
            "16c4b60111c642a5b73bfd600872f456",
            "efd854aae2ec4b00a9042ce7f3119135",
            "d7697d6f35be4b5f88d6fb86904430f5",
            "0003f018a07043f798e7af5c33943d46",
            "0089f626ccf74d3e9b1df67c652261ca"
          ]
        },
        "id": "lux7NdSHAqEc",
        "outputId": "83e65b18-84cb-4405-b063-d85ec0675fab"
      },
      "execution_count": 250,
      "outputs": [
        {
          "output_type": "stream",
          "name": "stdout",
          "text": [
            "4 to 0\n",
            "[2, 1, 0]\n",
            "[0, 0, 1]\n",
            "[2, 0, 2]\n",
            "\n",
            "you win, human\n",
            "2\n",
            "a\n"
          ]
        }
      ]
    },
    {
      "cell_type": "markdown",
      "source": [
        "Tasks:\n",
        "color player's pawns and corresponding buttons\n",
        "\n",
        "make buttons do moves"
      ],
      "metadata": {
        "id": "RjsQj4vDCdyW"
      }
    },
    {
      "cell_type": "code",
      "source": [
        "playerPossibleMoves = []\n",
        "player_moves()\n",
        "buttons = [Button(description=str(moveTuple[0]) + \" to \" + str(moveTuple[1])) for moveTuple in playerPossibleMoves]\n",
        "for butt in buttons:\n",
        "    butt.on_click(on_button_clicked)\n",
        "display(HBox(buttons), output)"
      ],
      "metadata": {
        "id": "Ka1apDt76GZB"
      },
      "execution_count": null,
      "outputs": []
    },
    {
      "cell_type": "code",
      "source": [
        "import ipywidgets as widgets\n",
        "from IPython.display import display\n",
        "#button = widgets.Button(description=\"Click Me!\")\n",
        "#b2 = widgets.Button(description=\"i am 2nd\")\n",
        "\n",
        "\n",
        "#display(button, b2, output)\n",
        "\n",
        "#def on_button_clicked(b):\n",
        "#    with output:\n",
        "#        print(\"Button clicked.\")\n",
        "\n",
        "#button.on_click(on_button_clicked)\n",
        "#b2.on_click(on_button_clicked_2)\n",
        "\n",
        "from ipywidgets import Button, HBox, VBox       # https://ipywidgets.readthedocs.io/en/latest/examples/Widget%20Styling.html\n",
        "\n",
        "words = ['correct', 'horse', 'battery', 'staple']\n",
        "items = [Button(description=w) for w in words]\n",
        "left_box = VBox([items[0], items[1]])\n",
        "right_box = VBox([items[2], items[3]])\n",
        "HBox([left_box, right_box])\n"
      ],
      "metadata": {
        "id": "dWx0X1AQ7R6t"
      },
      "execution_count": null,
      "outputs": []
    }
  ]
}