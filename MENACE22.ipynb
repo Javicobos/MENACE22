{
  "nbformat": 4,
  "nbformat_minor": 0,
  "metadata": {
    "colab": {
      "name": "MENACE22.ipynb",
      "provenance": [],
      "collapsed_sections": [],
      "authorship_tag": "ABX9TyPLv7ItZvDeJsltrO9aY0jC",
      "include_colab_link": true
    },
    "kernelspec": {
      "name": "python3",
      "display_name": "Python 3"
    },
    "language_info": {
      "name": "python"
    }
  },
  "cells": [
    {
      "cell_type": "markdown",
      "metadata": {
        "id": "view-in-github",
        "colab_type": "text"
      },
      "source": [
        "<a href=\"https://colab.research.google.com/github/Javicobos/MENACE22/blob/main/MENACE22.ipynb\" target=\"_parent\"><img src=\"https://colab.research.google.com/assets/colab-badge.svg\" alt=\"Open In Colab\"/></a>"
      ]
    },
    {
      "cell_type": "code",
      "execution_count": 1,
      "metadata": {
        "id": "Vuu-eChaPSvL"
      },
      "outputs": [],
      "source": [
        "# Let's start with a basic matrix (that will actually be a list)\n",
        "gameBoard = [0,0,0,\n",
        "             0,0,0,\n",
        "             0,0,0]\n",
        "# Positions are numbered like this:\n",
        "#           [0,1,2,\n",
        "#            3,4,5,\n",
        "#            6,7,8]"
      ]
    },
    {
      "cell_type": "code",
      "source": [
        "# A zero will be an empty space, and the naughts and crosses -1 and 1\n",
        "# Let's make a function that will detect if the game is over\n",
        "def game_over():\n",
        "    for i1 in [0,3,6]:                  #rows\n",
        "        if gameBoard[i1] == gameBoard[i1 + 1]:\n",
        "            if gameBoard[i1 + 1] == gameBoard[i1 + 2]:\n",
        "                return gameBoard[i1 + 2]\n",
        "    for i2 in [0,1,2]:                  #columns\n",
        "        if gameBoard[i2] == gameBoard[i2 + 3]:\n",
        "            if gameBoard[i2 + 3] == gameBoard[i2 + 6]:\n",
        "                return gameBoard[i2 + 6]\n",
        "    if gameBoard[0] == gameBoard[4]:    #main diagonal\n",
        "            if gameBoard[4] == gameBoard[8]:\n",
        "                return gameBoard[8]\n",
        "    if gameBoard[2] == gameBoard[4]:    #back diagonal\n",
        "            if gameBoard[4] == gameBoard[6]:\n",
        "                return gameBoard[6]\n",
        "    if 0 not in gameBoard:              #tie\n",
        "        return 2\n",
        "    return 0                            #game is not over\n",
        "\n",
        "# This can be improved a lot if we just check the positions that are relevant\n",
        "# after a new move, instead of the whole thing. Should be fine for now."
      ],
      "metadata": {
        "id": "sy48vQalUvWh"
      },
      "execution_count": 8,
      "outputs": []
    },
    {
      "cell_type": "code",
      "source": [
        "gameBoard = [-1,-1,-1,\n",
        "             0,1,0,\n",
        "             0,0,1]\n",
        "print (game_over())"
      ],
      "metadata": {
        "colab": {
          "base_uri": "https://localhost:8080/"
        },
        "id": "xGLF8TiGbP1L",
        "outputId": "2021daa9-1aa2-45b9-e8e6-c12bdbf6e36a"
      },
      "execution_count": 10,
      "outputs": [
        {
          "output_type": "stream",
          "name": "stdout",
          "text": [
            "-1\n"
          ]
        }
      ]
    }
  ]
}